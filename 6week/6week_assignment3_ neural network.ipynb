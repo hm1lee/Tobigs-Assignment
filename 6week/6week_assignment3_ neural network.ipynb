{
 "cells": [
  {
   "cell_type": "code",
   "execution_count": 4,
   "metadata": {},
   "outputs": [
    {
     "name": "stdout",
     "output_type": "stream",
     "text": [
      "[{'weights': [0.13436424411240122, 0.8474337369372327, 0.763774618976614]}]\n",
      "[{'weights': [0.2550690257394217, 0.49543508709194095]}, {'weights': [0.4494910647887381, 0.651592972722763]}]\n"
     ]
    }
   ],
   "source": [
    "from random import seed\n",
    "from random import random\n",
    "import numpy as np\n",
    " \n",
    "# 네트워크 초기 설정\n",
    "def initialize_network(n_inputs, n_hidden, n_outputs):\n",
    "    network = list()\n",
    "    hidden_layer = [{'weights':[random() for i in range(n_inputs + 1)]} for i in range(n_hidden)]\n",
    "    network.append(hidden_layer)\n",
    "    output_layer = [{'weights':[random() for i in range(n_hidden + 1)]} for i in range(n_outputs)]\n",
    "    network.append(output_layer)\n",
    "    return network\n",
    " \n",
    "seed(1)\n",
    "network = initialize_network(2, 1, 2)\n",
    "for layer in network:\n",
    "    print(layer)"
   ]
  },
  {
   "cell_type": "code",
   "execution_count": 5,
   "metadata": {},
   "outputs": [],
   "source": [
    "from math import exp #exp 계산에 대한 모듈 불러오기\n",
    "\n",
    "#input에 대한 뉴런 활성화 계산\n",
    "def activate(weights, inputs):\n",
    "    activation = weights[-1]\n",
    "    for i in range(len(weights)-1):\n",
    "        activation += weights[i] + inputs[i]  # 순전파 진행 \n",
    "    return activation\n",
    "\n",
    "def sigmoid(activation):\n",
    "    return 1.0 / (1.0 + exp(-activation)) # 시그모이드 구현\n",
    "\n",
    "def forward_propagate(network, row):\n",
    "    inputs = row\n",
    "    for layer in network:\n",
    "        new_inputs = []\n",
    "        for neuron in layer:\n",
    "            activation = activate(neuron['weights'], inputs)  \n",
    "            neuron['output'] = sigmoid(activation) # 나온 계산 값을 그대로 쓰나요?\n",
    "            new_inputs.append(neuron['output']) # new_input은 다음 히든층에 들어갈 값이죠?\n",
    "        inputs = new_inputs\n",
    "    return inputs"
   ]
  },
  {
   "cell_type": "markdown",
   "metadata": {},
   "source": [
    "**여기까지는 순전파 학습과정이었습니다. 이 과정이 끝나면 가중치가 바뀌나요?  \n",
    "답변을 답변의 근거 코딩 결과와 함께 보여주세요.**"
   ]
  },
  {
   "cell_type": "code",
   "execution_count": 15,
   "metadata": {},
   "outputs": [],
   "source": [
    "#이 과정이 끝나면 가중치가 바뀌진 않는다. 가중치는 오차 역전파를 통해서 바뀌게 될 것이다."
   ]
  },
  {
   "cell_type": "code",
   "execution_count": 16,
   "metadata": {},
   "outputs": [
    {
     "name": "stdout",
     "output_type": "stream",
     "text": [
      "[0.38709961854870767, 0.5296689516581048]\n"
     ]
    }
   ],
   "source": [
    "row = [1, 0, None]\n",
    "output = forward_propagate(network, row)\n",
    "print(output)"
   ]
  },
  {
   "cell_type": "code",
   "execution_count": 17,
   "metadata": {},
   "outputs": [],
   "source": [
    "def sigmoid_derivative(output):\n",
    "    return output * (1.0 - output) # 시그모이드 미분\n",
    "\n",
    "def backward_propagate_error(network, expected):\n",
    "    for i in reversed(range(len(network))):\n",
    "        layer = network[i]\n",
    "        errors = []\n",
    "        if i != len(network)-1:\n",
    "            for j in range(len(layer)):\n",
    "                error = 0.0\n",
    "                for neuron in network[i + 1]:\n",
    "                    error += (neuron['weights'][j] * neuron['delta'])\n",
    "                errors.append(error) \n",
    "        else:\n",
    "            for j in range(len(layer)):\n",
    "                neuron = layer[j]\n",
    "                errors.append(expected[j] - neuron['output']) # 역전파시 오차는 어떻게 설정했나요?\n",
    "        for j in range(len(layer)):\n",
    "            neuron = layer[j]\n",
    "            neuron['delta'] = errors[j] * sigmoid_derivative(neuron['output']) # 시그모이드 함수를 사용한 역전파 "
   ]
  },
  {
   "cell_type": "code",
   "execution_count": 18,
   "metadata": {},
   "outputs": [
    {
     "name": "stdout",
     "output_type": "stream",
     "text": [
      "[{'weights': [0.23098848185627577, 0.9846318794354859, 0.9009727614748673], 'output': 0.9575720296729436, 'delta': -0.003152162518359428}, {'weights': [0.1731706910306519, 0.38170581889404503, 0.3357617965908422], 'output': 0.8688282927318582, 'delta': 0.004037422355439106}]\n",
      "[{'weights': [-0.5232815547008197, -0.5338876720149377, -1.2287514363762204], 'output': 0.38709961854870767, 'delta': -0.09184074084670625}, {'weights': [-1.0723408240348868, -0.11612303770626536, -0.519121073721081], 'output': 0.5296689516581048, 'delta': 0.11716875473579505}]\n"
     ]
    }
   ],
   "source": [
    "expected = [0, 1]\n",
    "\n",
    "backward_propagate_error(network, expected)\n",
    "for layer in network:\n",
    "    print(layer)"
   ]
  },
  {
   "cell_type": "code",
   "execution_count": 19,
   "metadata": {},
   "outputs": [],
   "source": [
    "def weights_update(network, row, l_rate):\n",
    "    for i in range(len(network)):\n",
    "        inputs = row[:-1]\n",
    "        if i != 0:\n",
    "            inputs = [neuron['output'] for neuron in network[i - 1]]\n",
    "        for neuron in network[i]:\n",
    "            for j in range(len(inputs)):\n",
    "                neuron['weights'][j] += l_rate * neuron['delta'] * inputs[j]\n",
    "            neuron['weights'][-1] += l_rate * neuron['delta'] * inputs[j] # 퍼셉트론 학습 규칙\n",
    "            \n",
    "\n",
    "def train_network(network, train, l_rate, n_epoch, n_outputs):\n",
    "    for epoch in range(n_epoch):\n",
    "        sum_error = 0\n",
    "        for row in train:\n",
    "            outputs = forward_propagate(network, row) # 순전파 \n",
    "            expected = [0 for i in range(n_outputs)]\n",
    "            expected[row[-1]] = 1\n",
    "            sum_error += sum([(expected[i]-outputs[i])**2 for i in range(len(expected))]) \n",
    "            backward_propagate_error(network, expected)\n",
    "            weights_update(network, row, l_rate)\n",
    "        print('>epoch=%d, lrate=%.3f, error=%.3f' % (epoch, l_rate, sum_error))"
   ]
  },
  {
   "cell_type": "code",
   "execution_count": 20,
   "metadata": {},
   "outputs": [],
   "source": [
    "seed(1)\n",
    "dataset = [[2.7810836,2.550537003,0],\n",
    "    [1.465489372,2.362125076,0],\n",
    "    [3.396561688,4.400293529,0],\n",
    "    [1.38807019,1.850220317,0],\n",
    "    [3.06407232,3.005305973,0],\n",
    "    [7.627531214,2.759262235,1],\n",
    "    [5.332441248,2.088626775,1],\n",
    "    [6.922596716,1.77106367,1],\n",
    "    [8.675418651,-0.242068655,1],\n",
    "    [7.673756466,3.508563011,1]]"
   ]
  },
  {
   "cell_type": "code",
   "execution_count": 30,
   "metadata": {},
   "outputs": [
    {
     "name": "stdout",
     "output_type": "stream",
     "text": [
      ">epoch=0, lrate=0.130, error=9.655\n",
      ">epoch=1, lrate=0.130, error=9.643\n",
      ">epoch=2, lrate=0.130, error=9.630\n",
      ">epoch=3, lrate=0.130, error=9.616\n",
      ">epoch=4, lrate=0.130, error=9.601\n",
      ">epoch=5, lrate=0.130, error=9.584\n",
      ">epoch=6, lrate=0.130, error=9.566\n",
      ">epoch=7, lrate=0.130, error=9.547\n",
      ">epoch=8, lrate=0.130, error=9.525\n",
      ">epoch=9, lrate=0.130, error=9.502\n",
      ">epoch=10, lrate=0.130, error=9.476\n",
      ">epoch=11, lrate=0.130, error=9.447\n",
      ">epoch=12, lrate=0.130, error=9.415\n",
      ">epoch=13, lrate=0.130, error=9.379\n",
      ">epoch=14, lrate=0.130, error=9.338\n",
      ">epoch=15, lrate=0.130, error=9.292\n",
      ">epoch=16, lrate=0.130, error=9.239\n",
      ">epoch=17, lrate=0.130, error=9.179\n",
      ">epoch=18, lrate=0.130, error=9.109\n",
      ">epoch=19, lrate=0.130, error=9.028\n",
      ">epoch=20, lrate=0.130, error=8.934\n",
      ">epoch=21, lrate=0.130, error=8.824\n",
      ">epoch=22, lrate=0.130, error=8.696\n",
      ">epoch=23, lrate=0.130, error=8.549\n",
      ">epoch=24, lrate=0.130, error=8.382\n",
      ">epoch=25, lrate=0.130, error=8.200\n",
      ">epoch=26, lrate=0.130, error=8.010\n",
      ">epoch=27, lrate=0.130, error=7.824\n",
      ">epoch=28, lrate=0.130, error=7.655\n",
      ">epoch=29, lrate=0.130, error=7.514\n",
      ">epoch=30, lrate=0.130, error=7.403\n",
      ">epoch=31, lrate=0.130, error=7.321\n",
      ">epoch=32, lrate=0.130, error=7.260\n",
      ">epoch=33, lrate=0.130, error=7.214\n",
      ">epoch=34, lrate=0.130, error=7.177\n",
      ">epoch=35, lrate=0.130, error=7.144\n",
      ">epoch=36, lrate=0.130, error=7.112\n",
      ">epoch=37, lrate=0.130, error=7.078\n",
      ">epoch=38, lrate=0.130, error=7.040\n",
      ">epoch=39, lrate=0.130, error=6.997\n",
      ">epoch=40, lrate=0.130, error=6.948\n",
      ">epoch=41, lrate=0.130, error=6.891\n",
      ">epoch=42, lrate=0.130, error=6.825\n",
      ">epoch=43, lrate=0.130, error=6.747\n",
      ">epoch=44, lrate=0.130, error=6.656\n",
      ">epoch=45, lrate=0.130, error=6.550\n",
      ">epoch=46, lrate=0.130, error=6.427\n",
      ">epoch=47, lrate=0.130, error=6.288\n",
      ">epoch=48, lrate=0.130, error=6.135\n",
      ">epoch=49, lrate=0.130, error=5.973\n",
      ">epoch=50, lrate=0.130, error=5.811\n",
      ">epoch=51, lrate=0.130, error=5.659\n",
      ">epoch=52, lrate=0.130, error=5.525\n",
      ">epoch=53, lrate=0.130, error=5.416\n",
      ">epoch=54, lrate=0.130, error=5.332\n",
      ">epoch=55, lrate=0.130, error=5.270\n",
      ">epoch=56, lrate=0.130, error=5.225\n",
      ">epoch=57, lrate=0.130, error=5.194\n",
      ">epoch=58, lrate=0.130, error=5.172\n",
      ">epoch=59, lrate=0.130, error=5.157\n",
      ">epoch=60, lrate=0.130, error=5.146\n",
      ">epoch=61, lrate=0.130, error=5.139\n",
      ">epoch=62, lrate=0.130, error=5.133\n",
      ">epoch=63, lrate=0.130, error=5.129\n",
      ">epoch=64, lrate=0.130, error=5.126\n",
      ">epoch=65, lrate=0.130, error=5.124\n",
      ">epoch=66, lrate=0.130, error=5.123\n",
      ">epoch=67, lrate=0.130, error=5.122\n",
      ">epoch=68, lrate=0.130, error=5.121\n",
      ">epoch=69, lrate=0.130, error=5.120\n",
      ">epoch=70, lrate=0.130, error=5.120\n",
      ">epoch=71, lrate=0.130, error=5.119\n",
      ">epoch=72, lrate=0.130, error=5.119\n",
      ">epoch=73, lrate=0.130, error=5.119\n",
      ">epoch=74, lrate=0.130, error=5.118\n",
      ">epoch=75, lrate=0.130, error=5.118\n",
      ">epoch=76, lrate=0.130, error=5.118\n",
      ">epoch=77, lrate=0.130, error=5.118\n",
      ">epoch=78, lrate=0.130, error=5.118\n",
      ">epoch=79, lrate=0.130, error=5.118\n",
      ">epoch=80, lrate=0.130, error=5.118\n",
      ">epoch=81, lrate=0.130, error=5.118\n",
      ">epoch=82, lrate=0.130, error=5.118\n",
      ">epoch=83, lrate=0.130, error=5.118\n",
      ">epoch=84, lrate=0.130, error=5.118\n",
      ">epoch=85, lrate=0.130, error=5.118\n",
      ">epoch=86, lrate=0.130, error=5.118\n",
      ">epoch=87, lrate=0.130, error=5.118\n",
      ">epoch=88, lrate=0.130, error=5.118\n",
      ">epoch=89, lrate=0.130, error=5.118\n",
      ">epoch=90, lrate=0.130, error=5.118\n",
      ">epoch=91, lrate=0.130, error=5.118\n",
      ">epoch=92, lrate=0.130, error=5.118\n",
      ">epoch=93, lrate=0.130, error=5.118\n",
      ">epoch=94, lrate=0.130, error=5.118\n",
      ">epoch=95, lrate=0.130, error=5.118\n",
      ">epoch=96, lrate=0.130, error=5.118\n",
      ">epoch=97, lrate=0.130, error=5.118\n",
      ">epoch=98, lrate=0.130, error=5.118\n",
      ">epoch=99, lrate=0.130, error=5.118\n"
     ]
    },
    {
     "ename": "NameError",
     "evalue": "name 'test' is not defined",
     "output_type": "error",
     "traceback": [
      "\u001b[1;31m---------------------------------------------------------------------------\u001b[0m",
      "\u001b[1;31mNameError\u001b[0m                                 Traceback (most recent call last)",
      "\u001b[1;32m<ipython-input-30-6a7b38b4c840>\u001b[0m in \u001b[0;36m<module>\u001b[1;34m\u001b[0m\n\u001b[0;32m      8\u001b[0m \u001b[0mpredictions\u001b[0m \u001b[1;33m=\u001b[0m \u001b[0mlist\u001b[0m\u001b[1;33m(\u001b[0m\u001b[1;33m)\u001b[0m\u001b[1;33m\u001b[0m\u001b[1;33m\u001b[0m\u001b[0m\n\u001b[0;32m      9\u001b[0m \u001b[1;33m\u001b[0m\u001b[0m\n\u001b[1;32m---> 10\u001b[1;33m \u001b[1;32mfor\u001b[0m \u001b[0mrow\u001b[0m \u001b[1;32min\u001b[0m \u001b[0mtest\u001b[0m\u001b[1;33m:\u001b[0m\u001b[1;33m\u001b[0m\u001b[1;33m\u001b[0m\u001b[0m\n\u001b[0m\u001b[0;32m     11\u001b[0m     \u001b[0mprediction\u001b[0m \u001b[1;33m=\u001b[0m \u001b[0mpredict\u001b[0m\u001b[1;33m(\u001b[0m\u001b[0mnetwork\u001b[0m\u001b[1;33m,\u001b[0m \u001b[0mrow\u001b[0m\u001b[1;33m)\u001b[0m\u001b[1;33m\u001b[0m\u001b[1;33m\u001b[0m\u001b[0m\n\u001b[0;32m     12\u001b[0m     \u001b[0mpredictions\u001b[0m\u001b[1;33m.\u001b[0m\u001b[0mappend\u001b[0m\u001b[1;33m(\u001b[0m\u001b[0mprediction\u001b[0m\u001b[1;33m)\u001b[0m\u001b[1;33m\u001b[0m\u001b[1;33m\u001b[0m\u001b[0m\n",
      "\u001b[1;31mNameError\u001b[0m: name 'test' is not defined"
     ]
    }
   ],
   "source": [
    "n_inputs = len(dataset[0]) -1 # 뉴럴렛의 입력노드로 뭐가 들어가죠? 그럼 입력 노드의 개수는?\n",
    "n_outputs = len(set([row[-1] for row in dataset])) # 뉴럴렛의 출력노드의 개수는 뭐라고 했죠? \n",
    "network = initialize_network(n_inputs, 2, n_outputs)\n",
    "\n",
    "train_network(network, dataset, 0.13, 100, n_outputs) # 자유롭게 설정하고 최적을 찾아보세요.\n",
    "\n",
    "# 학습된(최적화)된 네트워크가 초기 네트워크와 달리 어떻게 변하였는지 출력하시오. (layer별로,hint : for문))\n",
    "predictions = list()\n",
    "\n",
    "for row in test:\n",
    "    prediction = predict(network, row)\n",
    "    predictions.append(prediction)\n",
    "return(predictions)"
   ]
  },
  {
   "cell_type": "code",
   "execution_count": 31,
   "metadata": {},
   "outputs": [],
   "source": [
    "# 학습한 네트워크로 예측값을 뽑아보자.\n",
    "\n",
    "def predict(network, row):\n",
    "    outputs = forward_propagate(network, row)\n",
    "    return outputs.index(max(outputs)) # 순전파 결과에서 어떤것이 최종 아웃풋이 되나요?"
   ]
  },
  {
   "cell_type": "code",
   "execution_count": 32,
   "metadata": {},
   "outputs": [
    {
     "name": "stdout",
     "output_type": "stream",
     "text": [
      "실제값=0, 예측값=1\n",
      "실제값=0, 예측값=1\n",
      "실제값=0, 예측값=1\n",
      "실제값=0, 예측값=1\n",
      "실제값=0, 예측값=1\n",
      "실제값=1, 예측값=1\n",
      "실제값=1, 예측값=1\n",
      "실제값=1, 예측값=1\n",
      "실제값=1, 예측값=1\n",
      "실제값=1, 예측값=1\n"
     ]
    }
   ],
   "source": [
    "# 네트워크가 잘 학습되었는지 확인해보자. \n",
    "\n",
    "for row in dataset:\n",
    "    prediction = predict(network, row) # 앞서 최적(학습)시킨 네트워크로 잘 학습되었는지 평가 \n",
    "    print('실제값=%d, 예측값=%d' % (row[-1], prediction))"
   ]
  }
 ],
 "metadata": {
  "kernelspec": {
   "display_name": "Python 3",
   "language": "python",
   "name": "python3"
  },
  "language_info": {
   "codemirror_mode": {
    "name": "ipython",
    "version": 3
   },
   "file_extension": ".py",
   "mimetype": "text/x-python",
   "name": "python",
   "nbconvert_exporter": "python",
   "pygments_lexer": "ipython3",
   "version": "3.6.9"
  }
 },
 "nbformat": 4,
 "nbformat_minor": 4
}
