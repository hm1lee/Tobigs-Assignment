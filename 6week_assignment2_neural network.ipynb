{
 "cells": [
  {
   "cell_type": "markdown",
   "metadata": {},
   "source": [
    "# 역전파. backpropagation"
   ]
  },
  {
   "cell_type": "markdown",
   "metadata": {},
   "source": [
    "## 들어가기 전, 순전파를 먼저 공부해보자.\n",
    "<img src ='1.PNG'>\n",
    "\n",
    "- 위의 사진은 예제 신경망이고, input은 1개, output은 2개, hidden층은 2개이다. 각 노드들의 activation function은 sigmoid 함수를 사용했고, bias는 없다.\n",
    "- 초록색 값은 초기에 주어진 값이고, 파란색 값들은 초기에 주어진 값으로 계산한 결과 값이다.\n",
    "- 처음 x1 = 0.5 이고, w1 = 0.15이기 때문에 둘을 곱한 0.075가 계산값으로 나온 것을 알 수 있다."
   ]
  },
  {
   "cell_type": "markdown",
   "metadata": {},
   "source": [
    "실제로 계산한 y1에 대한 값은 0.609이지만, 실제 값은 0.3 / 실제로 계산한 y2에 대한 값은 0.633이지만, 실제 값은 0.9임을 확인할 수 있다. "
   ]
  },
  {
   "cell_type": "markdown",
   "metadata": {},
   "source": [
    "<img src = '2.PNG'>\n",
    "error 측정 방식은 MSE이고, 학습 전체 에러가 0.087임을 알 수 있다."
   ]
  },
  {
   "cell_type": "markdown",
   "metadata": {},
   "source": [
    "## 역전파 예_1"
   ]
  },
  {
   "cell_type": "markdown",
   "metadata": {},
   "source": [
    "역전파 알고리즘을 적용할 때, 신경망 weight들은 두 분류로 구분할 수 있다.\n",
    "\n",
    "output으로 첫 번째 층에 위치한 weight들과 / 그 외의 weight들... 첫번째 케이스를 먼저 보자."
   ]
  },
  {
   "cell_type": "markdown",
   "metadata": {},
   "source": [
    "<img src ='3.PNG'>\n",
    "\n",
    "먼저 w10(1)부터 학습을 시켜보면, 이 weight가 전체 Error에 미치는 영향을 식으로 나타내면 아래와 같다.\n",
    "\n",
    "<img src ='4.PNG'>\n",
    "\n",
    "target_y1은 실제 값인 0.3을 의미하고, a_20은 우리가 이미 가지고 있는 0.609값을 의미하게 된다."
   ]
  },
  {
   "cell_type": "code",
   "execution_count": null,
   "metadata": {},
   "outputs": [],
   "source": []
  },
  {
   "cell_type": "code",
   "execution_count": 1,
   "metadata": {},
   "outputs": [],
   "source": [
    "# 곱셈계층 구현\n",
    "\n",
    "class MulLayer :\n",
    "    def __init__(self): #객체 처음 만들때 생성\n",
    "        self.x = None\n",
    "        self.y = None\n",
    "    \n",
    "    def forward(self, x, y):\n",
    "        self.x = x\n",
    "        self.y = y\n",
    "        \n",
    "        return x * y\n",
    "    \n",
    "    def backward(self, dout) : #객체이름, 어떤 값(역으로 들어오는 값)\n",
    "        dx = dout * self.y\n",
    "        dy = dout * self.x \n",
    "        return dx, dy\n",
    "        \n"
   ]
  },
  {
   "cell_type": "code",
   "execution_count": 4,
   "metadata": {},
   "outputs": [],
   "source": [
    "apple = 100\n",
    "apple_num = 2\n",
    "tax = 1.1\n",
    "\n",
    "#객체 생성\n",
    "mul_apple_layer = MulLayer()\n",
    "mul_tax_layer = MulLayer()"
   ]
  },
  {
   "cell_type": "code",
   "execution_count": 6,
   "metadata": {},
   "outputs": [
    {
     "name": "stdout",
     "output_type": "stream",
     "text": [
      "220.00000000000003\n",
      "2.2 110.00000000000001 200\n"
     ]
    }
   ],
   "source": [
    "apple_price = mul_apple_layer.forward(apple, apple_num) #100과 2넣기\n",
    "price = mul_tax_layer.forward(apple_price, tax) #apple_price와 1.1 넣기\n",
    "\n",
    "print(price)\n",
    "\n",
    "dprice = 1\n",
    "dapple_price, dtax = mul_tax_layer.backward(dprice)\n",
    "dapple, dapple_num = mul_apple_layer.backward(dapple_price)\n",
    "print(dapple, dapple_num, dtax)"
   ]
  },
  {
   "cell_type": "markdown",
   "metadata": {},
   "source": [
    "출처 : https://gomguard.tistory.com/182"
   ]
  },
  {
   "cell_type": "markdown",
   "metadata": {},
   "source": [
    "<img src ='5.PNG'>"
   ]
  },
  {
   "cell_type": "markdown",
   "metadata": {},
   "source": [
    "<img src = \"6.jpg\">"
   ]
  },
  {
   "cell_type": "markdown",
   "metadata": {},
   "source": [
    "죄송합니다. 아무리 돌려도 사진이 돌려서 보이지가 않아서ㅠㅠ"
   ]
  }
 ],
 "metadata": {
  "kernelspec": {
   "display_name": "Python 3",
   "language": "python",
   "name": "python3"
  },
  "language_info": {
   "codemirror_mode": {
    "name": "ipython",
    "version": 3
   },
   "file_extension": ".py",
   "mimetype": "text/x-python",
   "name": "python",
   "nbconvert_exporter": "python",
   "pygments_lexer": "ipython3",
   "version": "3.6.9"
  }
 },
 "nbformat": 4,
 "nbformat_minor": 4
}
