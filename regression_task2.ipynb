{
 "cells": [
  {
   "cell_type": "markdown",
   "metadata": {},
   "source": [
    "# 0 - 데이터 준비하기"
   ]
  },
  {
   "cell_type": "code",
   "execution_count": 1,
   "metadata": {},
   "outputs": [],
   "source": [
    "import pandas as pd\n",
    "import numpy as np\n",
    "import seaborn as sns\n",
    "import matplotlib.pyplot as plt"
   ]
  },
  {
   "cell_type": "code",
   "execution_count": 2,
   "metadata": {},
   "outputs": [],
   "source": [
    "df = pd.read_csv('Auction_master_train.csv') \n",
    "\n",
    "\n",
    "# '아파트 경매가격 예측 모델링 대회' 데이터 불러오기"
   ]
  },
  {
   "cell_type": "code",
   "execution_count": 3,
   "metadata": {},
   "outputs": [
    {
     "data": {
      "text/plain": [
       "Auction_key                       0\n",
       "Auction_class                     0\n",
       "Bid_class                         0\n",
       "Claim_price                       0\n",
       "Appraisal_company                 0\n",
       "Appraisal_date                    0\n",
       "Auction_count                     0\n",
       "Auction_miscarriage_count         0\n",
       "Total_land_gross_area             0\n",
       "Total_land_real_area              0\n",
       "Total_land_auction_area           0\n",
       "Total_building_area               0\n",
       "Total_building_auction_area       0\n",
       "Total_appraisal_price             0\n",
       "Minimum_sales_price               0\n",
       "First_auction_date                0\n",
       "Final_auction_date                0\n",
       "Final_result                      0\n",
       "Creditor                          0\n",
       "addr_do                           0\n",
       "addr_si                           0\n",
       "addr_dong                         0\n",
       "addr_li                        1910\n",
       "addr_san                          0\n",
       "addr_bunji1                       4\n",
       "addr_bunji2                    1044\n",
       "addr_etc                          0\n",
       "Apartment_usage                   0\n",
       "Preserve_regist_date              0\n",
       "Total_floor                       0\n",
       "Current_floor                     0\n",
       "Specific                       1869\n",
       "Share_auction_YorN                0\n",
       "road_name                         0\n",
       "road_bunji1                      24\n",
       "road_bunji2                    1778\n",
       "Close_date                        0\n",
       "Close_result                      0\n",
       "point.y                           0\n",
       "point.x                           0\n",
       "Hammer_price                      0\n",
       "dtype: int64"
      ]
     },
     "execution_count": 3,
     "metadata": {},
     "output_type": "execute_result"
    }
   ],
   "source": [
    "df.isnull().sum()"
   ]
  },
  {
   "cell_type": "code",
   "execution_count": 4,
   "metadata": {},
   "outputs": [],
   "source": [
    "del df['road_bunji2']\n",
    "del df['road_bunji1']\n",
    "del df['Specific']\n",
    "del df['Close_result']\n",
    "del df['addr_bunji2']\n",
    "del df['Close_date']\n",
    "del df['Preserve_regist_date']\n",
    "del df['addr_bunji1']\n",
    "del df['addr_li']\n",
    "del df['addr_etc']\n",
    "del df['addr_san']\n",
    "del df['addr_dong']\n",
    "del df['addr_si']\n",
    "del df['Appraisal_date']\n",
    "del df['First_auction_date']\n",
    "del df['Final_auction_date']\n",
    "del df['road_name']\n",
    "del df['Creditor']\n",
    "del df['Appraisal_company']"
   ]
  },
  {
   "cell_type": "code",
   "execution_count": 5,
   "metadata": {},
   "outputs": [
    {
     "data": {
      "text/plain": [
       "Auction_key                    0\n",
       "Auction_class                  0\n",
       "Bid_class                      0\n",
       "Claim_price                    0\n",
       "Auction_count                  0\n",
       "Auction_miscarriage_count      0\n",
       "Total_land_gross_area          0\n",
       "Total_land_real_area           0\n",
       "Total_land_auction_area        0\n",
       "Total_building_area            0\n",
       "Total_building_auction_area    0\n",
       "Total_appraisal_price          0\n",
       "Minimum_sales_price            0\n",
       "Final_result                   0\n",
       "addr_do                        0\n",
       "Apartment_usage                0\n",
       "Total_floor                    0\n",
       "Current_floor                  0\n",
       "Share_auction_YorN             0\n",
       "point.y                        0\n",
       "point.x                        0\n",
       "Hammer_price                   0\n",
       "dtype: int64"
      ]
     },
     "execution_count": 5,
     "metadata": {},
     "output_type": "execute_result"
    }
   ],
   "source": [
    "df.isnull().sum()"
   ]
  },
  {
   "cell_type": "code",
   "execution_count": 6,
   "metadata": {},
   "outputs": [
    {
     "data": {
      "text/html": [
       "<div>\n",
       "<style scoped>\n",
       "    .dataframe tbody tr th:only-of-type {\n",
       "        vertical-align: middle;\n",
       "    }\n",
       "\n",
       "    .dataframe tbody tr th {\n",
       "        vertical-align: top;\n",
       "    }\n",
       "\n",
       "    .dataframe thead th {\n",
       "        text-align: right;\n",
       "    }\n",
       "</style>\n",
       "<table border=\"1\" class=\"dataframe\">\n",
       "  <thead>\n",
       "    <tr style=\"text-align: right;\">\n",
       "      <th></th>\n",
       "      <th>Auction_key</th>\n",
       "      <th>Claim_price</th>\n",
       "      <th>Auction_count</th>\n",
       "      <th>Auction_miscarriage_count</th>\n",
       "      <th>Total_land_gross_area</th>\n",
       "      <th>Total_land_real_area</th>\n",
       "      <th>Total_land_auction_area</th>\n",
       "      <th>Total_building_area</th>\n",
       "      <th>Total_building_auction_area</th>\n",
       "      <th>Total_appraisal_price</th>\n",
       "      <th>Minimum_sales_price</th>\n",
       "      <th>Total_floor</th>\n",
       "      <th>Current_floor</th>\n",
       "      <th>point.y</th>\n",
       "      <th>point.x</th>\n",
       "      <th>Hammer_price</th>\n",
       "    </tr>\n",
       "  </thead>\n",
       "  <tbody>\n",
       "    <tr>\n",
       "      <th>count</th>\n",
       "      <td>1933.000000</td>\n",
       "      <td>1.933000e+03</td>\n",
       "      <td>1933.000000</td>\n",
       "      <td>1933.000000</td>\n",
       "      <td>1.933000e+03</td>\n",
       "      <td>1933.000000</td>\n",
       "      <td>1933.000000</td>\n",
       "      <td>1933.000000</td>\n",
       "      <td>1933.000000</td>\n",
       "      <td>1.933000e+03</td>\n",
       "      <td>1.933000e+03</td>\n",
       "      <td>1933.000000</td>\n",
       "      <td>1933.000000</td>\n",
       "      <td>1933.000000</td>\n",
       "      <td>1933.000000</td>\n",
       "      <td>1.933000e+03</td>\n",
       "    </tr>\n",
       "    <tr>\n",
       "      <th>mean</th>\n",
       "      <td>1380.271081</td>\n",
       "      <td>3.703908e+08</td>\n",
       "      <td>1.836006</td>\n",
       "      <td>0.788412</td>\n",
       "      <td>3.458714e+04</td>\n",
       "      <td>42.333802</td>\n",
       "      <td>41.310776</td>\n",
       "      <td>96.417693</td>\n",
       "      <td>94.148810</td>\n",
       "      <td>4.973592e+08</td>\n",
       "      <td>4.155955e+08</td>\n",
       "      <td>16.980859</td>\n",
       "      <td>8.817900</td>\n",
       "      <td>36.698018</td>\n",
       "      <td>127.731667</td>\n",
       "      <td>4.726901e+08</td>\n",
       "    </tr>\n",
       "    <tr>\n",
       "      <th>std</th>\n",
       "      <td>801.670470</td>\n",
       "      <td>1.337869e+09</td>\n",
       "      <td>0.938319</td>\n",
       "      <td>0.831715</td>\n",
       "      <td>9.442101e+04</td>\n",
       "      <td>65.274404</td>\n",
       "      <td>65.385900</td>\n",
       "      <td>106.323240</td>\n",
       "      <td>106.845985</td>\n",
       "      <td>7.873851e+08</td>\n",
       "      <td>5.030312e+08</td>\n",
       "      <td>9.509021</td>\n",
       "      <td>8.044644</td>\n",
       "      <td>1.150269</td>\n",
       "      <td>0.993055</td>\n",
       "      <td>5.574493e+08</td>\n",
       "    </tr>\n",
       "    <tr>\n",
       "      <th>min</th>\n",
       "      <td>1.000000</td>\n",
       "      <td>0.000000e+00</td>\n",
       "      <td>1.000000</td>\n",
       "      <td>0.000000</td>\n",
       "      <td>0.000000e+00</td>\n",
       "      <td>0.000000</td>\n",
       "      <td>0.000000</td>\n",
       "      <td>9.390000</td>\n",
       "      <td>1.500000</td>\n",
       "      <td>4.285000e+06</td>\n",
       "      <td>4.285000e+06</td>\n",
       "      <td>3.000000</td>\n",
       "      <td>0.000000</td>\n",
       "      <td>35.051385</td>\n",
       "      <td>126.809393</td>\n",
       "      <td>6.303000e+06</td>\n",
       "    </tr>\n",
       "    <tr>\n",
       "      <th>25%</th>\n",
       "      <td>691.000000</td>\n",
       "      <td>7.746112e+07</td>\n",
       "      <td>1.000000</td>\n",
       "      <td>0.000000</td>\n",
       "      <td>2.997000e+03</td>\n",
       "      <td>25.870000</td>\n",
       "      <td>24.570000</td>\n",
       "      <td>61.520000</td>\n",
       "      <td>59.970000</td>\n",
       "      <td>2.090000e+08</td>\n",
       "      <td>1.750000e+08</td>\n",
       "      <td>12.000000</td>\n",
       "      <td>3.000000</td>\n",
       "      <td>35.188590</td>\n",
       "      <td>126.959167</td>\n",
       "      <td>1.975550e+08</td>\n",
       "    </tr>\n",
       "    <tr>\n",
       "      <th>50%</th>\n",
       "      <td>1395.000000</td>\n",
       "      <td>1.728143e+08</td>\n",
       "      <td>2.000000</td>\n",
       "      <td>1.000000</td>\n",
       "      <td>1.424140e+04</td>\n",
       "      <td>37.510000</td>\n",
       "      <td>36.790000</td>\n",
       "      <td>84.900000</td>\n",
       "      <td>84.860000</td>\n",
       "      <td>3.600000e+08</td>\n",
       "      <td>3.120000e+08</td>\n",
       "      <td>15.000000</td>\n",
       "      <td>7.000000</td>\n",
       "      <td>37.500862</td>\n",
       "      <td>127.065003</td>\n",
       "      <td>3.544500e+08</td>\n",
       "    </tr>\n",
       "    <tr>\n",
       "      <th>75%</th>\n",
       "      <td>2062.000000</td>\n",
       "      <td>3.565089e+08</td>\n",
       "      <td>2.000000</td>\n",
       "      <td>1.000000</td>\n",
       "      <td>4.140310e+04</td>\n",
       "      <td>51.790000</td>\n",
       "      <td>51.320000</td>\n",
       "      <td>114.940000</td>\n",
       "      <td>114.850000</td>\n",
       "      <td>5.720000e+08</td>\n",
       "      <td>4.864000e+08</td>\n",
       "      <td>21.000000</td>\n",
       "      <td>12.000000</td>\n",
       "      <td>37.566116</td>\n",
       "      <td>129.018054</td>\n",
       "      <td>5.599000e+08</td>\n",
       "    </tr>\n",
       "    <tr>\n",
       "      <th>max</th>\n",
       "      <td>2762.000000</td>\n",
       "      <td>2.286481e+10</td>\n",
       "      <td>13.000000</td>\n",
       "      <td>9.000000</td>\n",
       "      <td>3.511936e+06</td>\n",
       "      <td>2665.840000</td>\n",
       "      <td>2665.840000</td>\n",
       "      <td>4255.070000</td>\n",
       "      <td>4255.070000</td>\n",
       "      <td>2.777500e+10</td>\n",
       "      <td>1.422080e+10</td>\n",
       "      <td>80.000000</td>\n",
       "      <td>65.000000</td>\n",
       "      <td>37.685575</td>\n",
       "      <td>129.255872</td>\n",
       "      <td>1.515100e+10</td>\n",
       "    </tr>\n",
       "  </tbody>\n",
       "</table>\n",
       "</div>"
      ],
      "text/plain": [
       "       Auction_key   Claim_price  Auction_count  Auction_miscarriage_count  \\\n",
       "count  1933.000000  1.933000e+03    1933.000000                1933.000000   \n",
       "mean   1380.271081  3.703908e+08       1.836006                   0.788412   \n",
       "std     801.670470  1.337869e+09       0.938319                   0.831715   \n",
       "min       1.000000  0.000000e+00       1.000000                   0.000000   \n",
       "25%     691.000000  7.746112e+07       1.000000                   0.000000   \n",
       "50%    1395.000000  1.728143e+08       2.000000                   1.000000   \n",
       "75%    2062.000000  3.565089e+08       2.000000                   1.000000   \n",
       "max    2762.000000  2.286481e+10      13.000000                   9.000000   \n",
       "\n",
       "       Total_land_gross_area  Total_land_real_area  Total_land_auction_area  \\\n",
       "count           1.933000e+03           1933.000000              1933.000000   \n",
       "mean            3.458714e+04             42.333802                41.310776   \n",
       "std             9.442101e+04             65.274404                65.385900   \n",
       "min             0.000000e+00              0.000000                 0.000000   \n",
       "25%             2.997000e+03             25.870000                24.570000   \n",
       "50%             1.424140e+04             37.510000                36.790000   \n",
       "75%             4.140310e+04             51.790000                51.320000   \n",
       "max             3.511936e+06           2665.840000              2665.840000   \n",
       "\n",
       "       Total_building_area  Total_building_auction_area  \\\n",
       "count          1933.000000                  1933.000000   \n",
       "mean             96.417693                    94.148810   \n",
       "std             106.323240                   106.845985   \n",
       "min               9.390000                     1.500000   \n",
       "25%              61.520000                    59.970000   \n",
       "50%              84.900000                    84.860000   \n",
       "75%             114.940000                   114.850000   \n",
       "max            4255.070000                  4255.070000   \n",
       "\n",
       "       Total_appraisal_price  Minimum_sales_price  Total_floor  Current_floor  \\\n",
       "count           1.933000e+03         1.933000e+03  1933.000000    1933.000000   \n",
       "mean            4.973592e+08         4.155955e+08    16.980859       8.817900   \n",
       "std             7.873851e+08         5.030312e+08     9.509021       8.044644   \n",
       "min             4.285000e+06         4.285000e+06     3.000000       0.000000   \n",
       "25%             2.090000e+08         1.750000e+08    12.000000       3.000000   \n",
       "50%             3.600000e+08         3.120000e+08    15.000000       7.000000   \n",
       "75%             5.720000e+08         4.864000e+08    21.000000      12.000000   \n",
       "max             2.777500e+10         1.422080e+10    80.000000      65.000000   \n",
       "\n",
       "           point.y      point.x  Hammer_price  \n",
       "count  1933.000000  1933.000000  1.933000e+03  \n",
       "mean     36.698018   127.731667  4.726901e+08  \n",
       "std       1.150269     0.993055  5.574493e+08  \n",
       "min      35.051385   126.809393  6.303000e+06  \n",
       "25%      35.188590   126.959167  1.975550e+08  \n",
       "50%      37.500862   127.065003  3.544500e+08  \n",
       "75%      37.566116   129.018054  5.599000e+08  \n",
       "max      37.685575   129.255872  1.515100e+10  "
      ]
     },
     "execution_count": 6,
     "metadata": {},
     "output_type": "execute_result"
    }
   ],
   "source": [
    "df.describe() #데이터의 요약 통계 확인"
   ]
  },
  {
   "cell_type": "code",
   "execution_count": 7,
   "metadata": {},
   "outputs": [
    {
     "data": {
      "text/html": [
       "<div>\n",
       "<style scoped>\n",
       "    .dataframe tbody tr th:only-of-type {\n",
       "        vertical-align: middle;\n",
       "    }\n",
       "\n",
       "    .dataframe tbody tr th {\n",
       "        vertical-align: top;\n",
       "    }\n",
       "\n",
       "    .dataframe thead th {\n",
       "        text-align: right;\n",
       "    }\n",
       "</style>\n",
       "<table border=\"1\" class=\"dataframe\">\n",
       "  <thead>\n",
       "    <tr style=\"text-align: right;\">\n",
       "      <th></th>\n",
       "      <th>Auction_key</th>\n",
       "      <th>Auction_class</th>\n",
       "      <th>Bid_class</th>\n",
       "      <th>Claim_price</th>\n",
       "      <th>Auction_count</th>\n",
       "      <th>Auction_miscarriage_count</th>\n",
       "      <th>Total_land_gross_area</th>\n",
       "      <th>Total_land_real_area</th>\n",
       "      <th>Total_land_auction_area</th>\n",
       "      <th>Total_building_area</th>\n",
       "      <th>...</th>\n",
       "      <th>Minimum_sales_price</th>\n",
       "      <th>Final_result</th>\n",
       "      <th>addr_do</th>\n",
       "      <th>Apartment_usage</th>\n",
       "      <th>Total_floor</th>\n",
       "      <th>Current_floor</th>\n",
       "      <th>Share_auction_YorN</th>\n",
       "      <th>point.y</th>\n",
       "      <th>point.x</th>\n",
       "      <th>Hammer_price</th>\n",
       "    </tr>\n",
       "  </thead>\n",
       "  <tbody>\n",
       "    <tr>\n",
       "      <th>0</th>\n",
       "      <td>2687</td>\n",
       "      <td>임의</td>\n",
       "      <td>개별</td>\n",
       "      <td>1766037301</td>\n",
       "      <td>2</td>\n",
       "      <td>1</td>\n",
       "      <td>12592.0</td>\n",
       "      <td>37.35</td>\n",
       "      <td>37.35</td>\n",
       "      <td>181.77</td>\n",
       "      <td>...</td>\n",
       "      <td>668800000</td>\n",
       "      <td>낙찰</td>\n",
       "      <td>부산</td>\n",
       "      <td>주상복합</td>\n",
       "      <td>45</td>\n",
       "      <td>5</td>\n",
       "      <td>N</td>\n",
       "      <td>35.162717</td>\n",
       "      <td>129.137048</td>\n",
       "      <td>760000000</td>\n",
       "    </tr>\n",
       "    <tr>\n",
       "      <th>1</th>\n",
       "      <td>2577</td>\n",
       "      <td>임의</td>\n",
       "      <td>일반</td>\n",
       "      <td>152946867</td>\n",
       "      <td>2</td>\n",
       "      <td>1</td>\n",
       "      <td>42478.1</td>\n",
       "      <td>18.76</td>\n",
       "      <td>18.76</td>\n",
       "      <td>118.38</td>\n",
       "      <td>...</td>\n",
       "      <td>858400000</td>\n",
       "      <td>낙찰</td>\n",
       "      <td>부산</td>\n",
       "      <td>아파트</td>\n",
       "      <td>70</td>\n",
       "      <td>51</td>\n",
       "      <td>N</td>\n",
       "      <td>35.156633</td>\n",
       "      <td>129.145068</td>\n",
       "      <td>971889999</td>\n",
       "    </tr>\n",
       "    <tr>\n",
       "      <th>2</th>\n",
       "      <td>2197</td>\n",
       "      <td>임의</td>\n",
       "      <td>개별</td>\n",
       "      <td>11326510</td>\n",
       "      <td>3</td>\n",
       "      <td>2</td>\n",
       "      <td>149683.1</td>\n",
       "      <td>71.00</td>\n",
       "      <td>71.00</td>\n",
       "      <td>49.94</td>\n",
       "      <td>...</td>\n",
       "      <td>76160000</td>\n",
       "      <td>낙찰</td>\n",
       "      <td>부산</td>\n",
       "      <td>아파트</td>\n",
       "      <td>15</td>\n",
       "      <td>14</td>\n",
       "      <td>N</td>\n",
       "      <td>35.184601</td>\n",
       "      <td>128.996765</td>\n",
       "      <td>93399999</td>\n",
       "    </tr>\n",
       "    <tr>\n",
       "      <th>3</th>\n",
       "      <td>2642</td>\n",
       "      <td>임의</td>\n",
       "      <td>일반</td>\n",
       "      <td>183581724</td>\n",
       "      <td>2</td>\n",
       "      <td>1</td>\n",
       "      <td>24405.0</td>\n",
       "      <td>32.98</td>\n",
       "      <td>32.98</td>\n",
       "      <td>84.91</td>\n",
       "      <td>...</td>\n",
       "      <td>230720000</td>\n",
       "      <td>낙찰</td>\n",
       "      <td>부산</td>\n",
       "      <td>아파트</td>\n",
       "      <td>20</td>\n",
       "      <td>11</td>\n",
       "      <td>N</td>\n",
       "      <td>35.154180</td>\n",
       "      <td>129.089081</td>\n",
       "      <td>256899000</td>\n",
       "    </tr>\n",
       "    <tr>\n",
       "      <th>4</th>\n",
       "      <td>1958</td>\n",
       "      <td>강제</td>\n",
       "      <td>일반</td>\n",
       "      <td>45887671</td>\n",
       "      <td>2</td>\n",
       "      <td>1</td>\n",
       "      <td>774.0</td>\n",
       "      <td>45.18</td>\n",
       "      <td>45.18</td>\n",
       "      <td>84.96</td>\n",
       "      <td>...</td>\n",
       "      <td>136000000</td>\n",
       "      <td>낙찰</td>\n",
       "      <td>부산</td>\n",
       "      <td>아파트</td>\n",
       "      <td>7</td>\n",
       "      <td>7</td>\n",
       "      <td>N</td>\n",
       "      <td>35.099630</td>\n",
       "      <td>128.998874</td>\n",
       "      <td>158660000</td>\n",
       "    </tr>\n",
       "  </tbody>\n",
       "</table>\n",
       "<p>5 rows × 22 columns</p>\n",
       "</div>"
      ],
      "text/plain": [
       "   Auction_key Auction_class Bid_class  Claim_price  Auction_count  \\\n",
       "0         2687            임의        개별   1766037301              2   \n",
       "1         2577            임의        일반    152946867              2   \n",
       "2         2197            임의        개별     11326510              3   \n",
       "3         2642            임의        일반    183581724              2   \n",
       "4         1958            강제        일반     45887671              2   \n",
       "\n",
       "   Auction_miscarriage_count  Total_land_gross_area  Total_land_real_area  \\\n",
       "0                          1                12592.0                 37.35   \n",
       "1                          1                42478.1                 18.76   \n",
       "2                          2               149683.1                 71.00   \n",
       "3                          1                24405.0                 32.98   \n",
       "4                          1                  774.0                 45.18   \n",
       "\n",
       "   Total_land_auction_area  Total_building_area      ...       \\\n",
       "0                    37.35               181.77      ...        \n",
       "1                    18.76               118.38      ...        \n",
       "2                    71.00                49.94      ...        \n",
       "3                    32.98                84.91      ...        \n",
       "4                    45.18                84.96      ...        \n",
       "\n",
       "   Minimum_sales_price  Final_result  addr_do Apartment_usage Total_floor  \\\n",
       "0            668800000            낙찰       부산            주상복합          45   \n",
       "1            858400000            낙찰       부산             아파트          70   \n",
       "2             76160000            낙찰       부산             아파트          15   \n",
       "3            230720000            낙찰       부산             아파트          20   \n",
       "4            136000000            낙찰       부산             아파트           7   \n",
       "\n",
       "  Current_floor  Share_auction_YorN    point.y     point.x  Hammer_price  \n",
       "0             5                   N  35.162717  129.137048     760000000  \n",
       "1            51                   N  35.156633  129.145068     971889999  \n",
       "2            14                   N  35.184601  128.996765      93399999  \n",
       "3            11                   N  35.154180  129.089081     256899000  \n",
       "4             7                   N  35.099630  128.998874     158660000  \n",
       "\n",
       "[5 rows x 22 columns]"
      ]
     },
     "execution_count": 7,
     "metadata": {},
     "output_type": "execute_result"
    }
   ],
   "source": [
    "df.head()"
   ]
  },
  {
   "cell_type": "markdown",
   "metadata": {},
   "source": [
    "# 1 -  EDA 및 전처리 인코딩 (3개씩)"
   ]
  },
  {
   "cell_type": "code",
   "execution_count": 8,
   "metadata": {},
   "outputs": [],
   "source": [
    "df.Apartment_usage.replace({'아파트':0, '주상복합':1},inplace=True)"
   ]
  },
  {
   "cell_type": "code",
   "execution_count": 9,
   "metadata": {},
   "outputs": [],
   "source": [
    "df.Auction_class.replace({'임의':0, '강제':1},inplace=True)"
   ]
  },
  {
   "cell_type": "code",
   "execution_count": 10,
   "metadata": {},
   "outputs": [],
   "source": [
    "df.Bid_class.replace({'개별':0,'일괄':0, '일반':1},inplace=True)"
   ]
  },
  {
   "cell_type": "code",
   "execution_count": 11,
   "metadata": {},
   "outputs": [],
   "source": [
    "df.Final_result.replace({'낙찰':1},inplace=True)"
   ]
  },
  {
   "cell_type": "code",
   "execution_count": 12,
   "metadata": {},
   "outputs": [],
   "source": [
    "df.addr_do.replace({'부산':0, '서울':1},inplace=True)"
   ]
  },
  {
   "cell_type": "code",
   "execution_count": 13,
   "metadata": {},
   "outputs": [],
   "source": [
    "df.Share_auction_YorN.replace({'Y':0, 'N':1},inplace=True)"
   ]
  },
  {
   "cell_type": "code",
   "execution_count": 14,
   "metadata": {},
   "outputs": [
    {
     "data": {
      "text/plain": [
       "1    1796\n",
       "0     137\n",
       "Name: Bid_class, dtype: int64"
      ]
     },
     "execution_count": 14,
     "metadata": {},
     "output_type": "execute_result"
    }
   ],
   "source": [
    "df['Bid_class'].value_counts()"
   ]
  },
  {
   "cell_type": "markdown",
   "metadata": {},
   "source": [
    "# 2 - Target 변수로 선형회귀 분석"
   ]
  },
  {
   "cell_type": "code",
   "execution_count": 15,
   "metadata": {
    "scrolled": true
   },
   "outputs": [
    {
     "data": {
      "image/png": "[encoded data removed]",
      "text/plain": [
       "<Figure size 432x288 with 2 Axes>"
      ]
     },
     "metadata": {
      "needs_background": "light"
     },
     "output_type": "display_data"
    }
   ],
   "source": [
    "sns.heatmap(df.corr())\n",
    "plt.show()"
   ]
  },
  {
   "cell_type": "code",
   "execution_count": 16,
   "metadata": {
    "scrolled": true
   },
   "outputs": [
    {
     "data": {
      "text/html": [
       "<div>\n",
       "<style scoped>\n",
       "    .dataframe tbody tr th:only-of-type {\n",
       "        vertical-align: middle;\n",
       "    }\n",
       "\n",
       "    .dataframe tbody tr th {\n",
       "        vertical-align: top;\n",
       "    }\n",
       "\n",
       "    .dataframe thead th {\n",
       "        text-align: right;\n",
       "    }\n",
       "</style>\n",
       "<table border=\"1\" class=\"dataframe\">\n",
       "  <thead>\n",
       "    <tr style=\"text-align: right;\">\n",
       "      <th></th>\n",
       "      <th>Minimum_sales_price</th>\n",
       "      <th>Hammer_price</th>\n",
       "    </tr>\n",
       "  </thead>\n",
       "  <tbody>\n",
       "    <tr>\n",
       "      <th>0</th>\n",
       "      <td>668800000</td>\n",
       "      <td>760000000</td>\n",
       "    </tr>\n",
       "    <tr>\n",
       "      <th>1</th>\n",
       "      <td>858400000</td>\n",
       "      <td>971889999</td>\n",
       "    </tr>\n",
       "    <tr>\n",
       "      <th>2</th>\n",
       "      <td>76160000</td>\n",
       "      <td>93399999</td>\n",
       "    </tr>\n",
       "    <tr>\n",
       "      <th>3</th>\n",
       "      <td>230720000</td>\n",
       "      <td>256899000</td>\n",
       "    </tr>\n",
       "    <tr>\n",
       "      <th>4</th>\n",
       "      <td>136000000</td>\n",
       "      <td>158660000</td>\n",
       "    </tr>\n",
       "    <tr>\n",
       "      <th>5</th>\n",
       "      <td>177600000</td>\n",
       "      <td>206989000</td>\n",
       "    </tr>\n",
       "    <tr>\n",
       "      <th>6</th>\n",
       "      <td>120320000</td>\n",
       "      <td>135500000</td>\n",
       "    </tr>\n",
       "    <tr>\n",
       "      <th>7</th>\n",
       "      <td>533600000</td>\n",
       "      <td>640299999</td>\n",
       "    </tr>\n",
       "    <tr>\n",
       "      <th>8</th>\n",
       "      <td>75200000</td>\n",
       "      <td>77380000</td>\n",
       "    </tr>\n",
       "    <tr>\n",
       "      <th>9</th>\n",
       "      <td>130400000</td>\n",
       "      <td>177070000</td>\n",
       "    </tr>\n",
       "    <tr>\n",
       "      <th>10</th>\n",
       "      <td>239200000</td>\n",
       "      <td>240000001</td>\n",
       "    </tr>\n",
       "    <tr>\n",
       "      <th>11</th>\n",
       "      <td>192800000</td>\n",
       "      <td>221017200</td>\n",
       "    </tr>\n",
       "    <tr>\n",
       "      <th>12</th>\n",
       "      <td>26240000</td>\n",
       "      <td>31888000</td>\n",
       "    </tr>\n",
       "    <tr>\n",
       "      <th>13</th>\n",
       "      <td>448000000</td>\n",
       "      <td>518800000</td>\n",
       "    </tr>\n",
       "    <tr>\n",
       "      <th>14</th>\n",
       "      <td>669000000</td>\n",
       "      <td>670190000</td>\n",
       "    </tr>\n",
       "    <tr>\n",
       "      <th>15</th>\n",
       "      <td>483200000</td>\n",
       "      <td>531100000</td>\n",
       "    </tr>\n",
       "    <tr>\n",
       "      <th>16</th>\n",
       "      <td>105600000</td>\n",
       "      <td>143999000</td>\n",
       "    </tr>\n",
       "    <tr>\n",
       "      <th>17</th>\n",
       "      <td>128000000</td>\n",
       "      <td>133000000</td>\n",
       "    </tr>\n",
       "    <tr>\n",
       "      <th>18</th>\n",
       "      <td>119200000</td>\n",
       "      <td>126651100</td>\n",
       "    </tr>\n",
       "    <tr>\n",
       "      <th>19</th>\n",
       "      <td>72000000</td>\n",
       "      <td>73899900</td>\n",
       "    </tr>\n",
       "    <tr>\n",
       "      <th>20</th>\n",
       "      <td>206000000</td>\n",
       "      <td>206119000</td>\n",
       "    </tr>\n",
       "    <tr>\n",
       "      <th>21</th>\n",
       "      <td>50400000</td>\n",
       "      <td>60299000</td>\n",
       "    </tr>\n",
       "    <tr>\n",
       "      <th>22</th>\n",
       "      <td>116000000</td>\n",
       "      <td>136630000</td>\n",
       "    </tr>\n",
       "    <tr>\n",
       "      <th>23</th>\n",
       "      <td>281600000</td>\n",
       "      <td>362000000</td>\n",
       "    </tr>\n",
       "    <tr>\n",
       "      <th>24</th>\n",
       "      <td>120800000</td>\n",
       "      <td>122000000</td>\n",
       "    </tr>\n",
       "    <tr>\n",
       "      <th>25</th>\n",
       "      <td>354000000</td>\n",
       "      <td>371131000</td>\n",
       "    </tr>\n",
       "    <tr>\n",
       "      <th>26</th>\n",
       "      <td>280000000</td>\n",
       "      <td>342750000</td>\n",
       "    </tr>\n",
       "    <tr>\n",
       "      <th>27</th>\n",
       "      <td>153600000</td>\n",
       "      <td>173711110</td>\n",
       "    </tr>\n",
       "    <tr>\n",
       "      <th>28</th>\n",
       "      <td>283200000</td>\n",
       "      <td>342525000</td>\n",
       "    </tr>\n",
       "    <tr>\n",
       "      <th>29</th>\n",
       "      <td>117118000</td>\n",
       "      <td>126630000</td>\n",
       "    </tr>\n",
       "    <tr>\n",
       "      <th>...</th>\n",
       "      <td>...</td>\n",
       "      <td>...</td>\n",
       "    </tr>\n",
       "    <tr>\n",
       "      <th>1903</th>\n",
       "      <td>267200000</td>\n",
       "      <td>301554999</td>\n",
       "    </tr>\n",
       "    <tr>\n",
       "      <th>1904</th>\n",
       "      <td>670000000</td>\n",
       "      <td>683800000</td>\n",
       "    </tr>\n",
       "    <tr>\n",
       "      <th>1905</th>\n",
       "      <td>1280000000</td>\n",
       "      <td>1605699900</td>\n",
       "    </tr>\n",
       "    <tr>\n",
       "      <th>1906</th>\n",
       "      <td>71040000</td>\n",
       "      <td>92100000</td>\n",
       "    </tr>\n",
       "    <tr>\n",
       "      <th>1907</th>\n",
       "      <td>30480000</td>\n",
       "      <td>36300000</td>\n",
       "    </tr>\n",
       "    <tr>\n",
       "      <th>1908</th>\n",
       "      <td>400000000</td>\n",
       "      <td>510000000</td>\n",
       "    </tr>\n",
       "    <tr>\n",
       "      <th>1909</th>\n",
       "      <td>594000000</td>\n",
       "      <td>660530000</td>\n",
       "    </tr>\n",
       "    <tr>\n",
       "      <th>1910</th>\n",
       "      <td>1540000000</td>\n",
       "      <td>1561800000</td>\n",
       "    </tr>\n",
       "    <tr>\n",
       "      <th>1911</th>\n",
       "      <td>75200000</td>\n",
       "      <td>91300000</td>\n",
       "    </tr>\n",
       "    <tr>\n",
       "      <th>1912</th>\n",
       "      <td>752000000</td>\n",
       "      <td>920500000</td>\n",
       "    </tr>\n",
       "    <tr>\n",
       "      <th>1913</th>\n",
       "      <td>376000000</td>\n",
       "      <td>444266000</td>\n",
       "    </tr>\n",
       "    <tr>\n",
       "      <th>1914</th>\n",
       "      <td>514400000</td>\n",
       "      <td>660015000</td>\n",
       "    </tr>\n",
       "    <tr>\n",
       "      <th>1915</th>\n",
       "      <td>96000000</td>\n",
       "      <td>101600000</td>\n",
       "    </tr>\n",
       "    <tr>\n",
       "      <th>1916</th>\n",
       "      <td>145600000</td>\n",
       "      <td>171220000</td>\n",
       "    </tr>\n",
       "    <tr>\n",
       "      <th>1917</th>\n",
       "      <td>72000000</td>\n",
       "      <td>83699000</td>\n",
       "    </tr>\n",
       "    <tr>\n",
       "      <th>1918</th>\n",
       "      <td>1170000000</td>\n",
       "      <td>1200000000</td>\n",
       "    </tr>\n",
       "    <tr>\n",
       "      <th>1919</th>\n",
       "      <td>411000000</td>\n",
       "      <td>432700000</td>\n",
       "    </tr>\n",
       "    <tr>\n",
       "      <th>1920</th>\n",
       "      <td>296000000</td>\n",
       "      <td>337180000</td>\n",
       "    </tr>\n",
       "    <tr>\n",
       "      <th>1921</th>\n",
       "      <td>324000000</td>\n",
       "      <td>400100000</td>\n",
       "    </tr>\n",
       "    <tr>\n",
       "      <th>1922</th>\n",
       "      <td>830000000</td>\n",
       "      <td>832100000</td>\n",
       "    </tr>\n",
       "    <tr>\n",
       "      <th>1923</th>\n",
       "      <td>270000000</td>\n",
       "      <td>300015000</td>\n",
       "    </tr>\n",
       "    <tr>\n",
       "      <th>1924</th>\n",
       "      <td>439000000</td>\n",
       "      <td>453616100</td>\n",
       "    </tr>\n",
       "    <tr>\n",
       "      <th>1925</th>\n",
       "      <td>92900000</td>\n",
       "      <td>95655000</td>\n",
       "    </tr>\n",
       "    <tr>\n",
       "      <th>1926</th>\n",
       "      <td>360800000</td>\n",
       "      <td>455588000</td>\n",
       "    </tr>\n",
       "    <tr>\n",
       "      <th>1927</th>\n",
       "      <td>264000000</td>\n",
       "      <td>295899500</td>\n",
       "    </tr>\n",
       "    <tr>\n",
       "      <th>1928</th>\n",
       "      <td>401000000</td>\n",
       "      <td>402500000</td>\n",
       "    </tr>\n",
       "    <tr>\n",
       "      <th>1929</th>\n",
       "      <td>363200000</td>\n",
       "      <td>430234600</td>\n",
       "    </tr>\n",
       "    <tr>\n",
       "      <th>1930</th>\n",
       "      <td>1028000000</td>\n",
       "      <td>1118999990</td>\n",
       "    </tr>\n",
       "    <tr>\n",
       "      <th>1931</th>\n",
       "      <td>325600000</td>\n",
       "      <td>403000000</td>\n",
       "    </tr>\n",
       "    <tr>\n",
       "      <th>1932</th>\n",
       "      <td>600000000</td>\n",
       "      <td>686010000</td>\n",
       "    </tr>\n",
       "  </tbody>\n",
       "</table>\n",
       "<p>1933 rows × 2 columns</p>\n",
       "</div>"
      ],
      "text/plain": [
       "      Minimum_sales_price  Hammer_price\n",
       "0               668800000     760000000\n",
       "1               858400000     971889999\n",
       "2                76160000      93399999\n",
       "3               230720000     256899000\n",
       "4               136000000     158660000\n",
       "5               177600000     206989000\n",
       "6               120320000     135500000\n",
       "7               533600000     640299999\n",
       "8                75200000      77380000\n",
       "9               130400000     177070000\n",
       "10              239200000     240000001\n",
       "11              192800000     221017200\n",
       "12               26240000      31888000\n",
       "13              448000000     518800000\n",
       "14              669000000     670190000\n",
       "15              483200000     531100000\n",
       "16              105600000     143999000\n",
       "17              128000000     133000000\n",
       "18              119200000     126651100\n",
       "19               72000000      73899900\n",
       "20              206000000     206119000\n",
       "21               50400000      60299000\n",
       "22              116000000     136630000\n",
       "23              281600000     362000000\n",
       "24              120800000     122000000\n",
       "25              354000000     371131000\n",
       "26              280000000     342750000\n",
       "27              153600000     173711110\n",
       "28              283200000     342525000\n",
       "29              117118000     126630000\n",
       "...                   ...           ...\n",
       "1903            267200000     301554999\n",
       "1904            670000000     683800000\n",
       "1905           1280000000    1605699900\n",
       "1906             71040000      92100000\n",
       "1907             30480000      36300000\n",
       "1908            400000000     510000000\n",
       "1909            594000000     660530000\n",
       "1910           1540000000    1561800000\n",
       "1911             75200000      91300000\n",
       "1912            752000000     920500000\n",
       "1913            376000000     444266000\n",
       "1914            514400000     660015000\n",
       "1915             96000000     101600000\n",
       "1916            145600000     171220000\n",
       "1917             72000000      83699000\n",
       "1918           1170000000    1200000000\n",
       "1919            411000000     432700000\n",
       "1920            296000000     337180000\n",
       "1921            324000000     400100000\n",
       "1922            830000000     832100000\n",
       "1923            270000000     300015000\n",
       "1924            439000000     453616100\n",
       "1925             92900000      95655000\n",
       "1926            360800000     455588000\n",
       "1927            264000000     295899500\n",
       "1928            401000000     402500000\n",
       "1929            363200000     430234600\n",
       "1930           1028000000    1118999990\n",
       "1931            325600000     403000000\n",
       "1932            600000000     686010000\n",
       "\n",
       "[1933 rows x 2 columns]"
      ]
     },
     "execution_count": 16,
     "metadata": {},
     "output_type": "execute_result"
    }
   ],
   "source": [
    "df[['Minimum_sales_price','Hammer_price']]"
   ]
  },
  {
   "cell_type": "code",
   "execution_count": 17,
   "metadata": {
    "scrolled": true
   },
   "outputs": [
    {
     "data": {
      "image/png": "[encoded data removed]",
      "text/plain": [
       "<Figure size 432x288 with 1 Axes>"
      ]
     },
     "metadata": {
      "needs_background": "light"
     },
     "output_type": "display_data"
    }
   ],
   "source": [
    "plt.scatter(x=df['Minimum_sales_price'],y=df['Hammer_price'])\n",
    "plt.show()"
   ]
  },
  {
   "cell_type": "markdown",
   "metadata": {},
   "source": [
    "# 3 - 데이터의 행렬 통해서 값 비교"
   ]
  },
  {
   "cell_type": "code",
   "execution_count": 18,
   "metadata": {},
   "outputs": [],
   "source": [
    "from sklearn.preprocessing import StandardScaler\n",
    "X = df.iloc[:,:-1] # X데이터 분리\n",
    "y = df.iloc[:,-1] # y데이터 분리\n",
    "\n",
    "scaler = StandardScaler()\n",
    "X = scaler.fit_transform(X)"
   ]
  },
  {
   "cell_type": "code",
   "execution_count": 22,
   "metadata": {},
   "outputs": [
    {
     "data": {
      "text/plain": [
       "LinearRegression(copy_X=True, fit_intercept=True, n_jobs=1, normalize=False)"
      ]
     },
     "execution_count": 22,
     "metadata": {},
     "output_type": "execute_result"
    }
   ],
   "source": [
    "from sklearn.linear_model import LinearRegression\n",
    "from sklearn.model_selection import train_test_split\n",
    "X_train, X_test, y_train, y_test = train_test_split(X, y, test_size=0.2, random_state=48)\n",
    "\n",
    "#모델 불러옴\n",
    "model = LinearRegression()\n",
    "#train data에 fit시킴\n",
    "model.fit(X_train, y_train)"
   ]
  },
  {
   "cell_type": "code",
   "execution_count": 23,
   "metadata": {
    "scrolled": true
   },
   "outputs": [
    {
     "data": {
      "text/plain": [
       "0.9909321787699049"
      ]
     },
     "execution_count": 23,
     "metadata": {},
     "output_type": "execute_result"
    }
   ],
   "source": [
    "model.score(X_train, y_train) #r-square"
   ]
  },
  {
   "cell_type": "code",
   "execution_count": 24,
   "metadata": {},
   "outputs": [],
   "source": [
    "y_pred = model.predict(X_test)"
   ]
  },
  {
   "cell_type": "code",
   "execution_count": 25,
   "metadata": {},
   "outputs": [
    {
     "data": {
      "text/plain": [
       "3013227529654440.0"
      ]
     },
     "execution_count": 25,
     "metadata": {},
     "output_type": "execute_result"
    }
   ],
   "source": [
    "#MSE\n",
    "import sklearn as sk\n",
    "sk.metrics.mean_squared_error(y_train, model.predict(X_train))"
   ]
  },
  {
   "cell_type": "code",
   "execution_count": 26,
   "metadata": {
    "scrolled": true
   },
   "outputs": [
    {
     "name": "stdout",
     "output_type": "stream",
     "text": [
      "[-6.41568552e+06  5.70394464e+05  1.60004135e+06  5.21068505e+06\n",
      " -2.09388606e+07  3.27452927e+07  2.19377957e+06  3.08236064e+07\n",
      " -4.49710735e+07 -1.52818283e+07  9.29461852e+05  3.16979941e+07\n",
      "  5.40611013e+08 -2.01165676e-07  7.89299982e+07 -5.92530870e+06\n",
      "  2.19952797e+06 -2.32185048e+06  5.47418368e+06 -4.00550145e+07\n",
      "  3.96431270e+07]\n",
      "472711504.6865425\n"
     ]
    }
   ],
   "source": [
    "print(model.coef_) #추정된 회귀계수(intercept제외) 베타들\n",
    "print(model.intercept_) #intercept 베타0"
   ]
  },
  {
   "cell_type": "code",
   "execution_count": 27,
   "metadata": {
    "scrolled": true
   },
   "outputs": [
    {
     "data": {
      "text/plain": [
       "array([7.34429151e+08, 6.69325777e+08, 2.74814418e+08, 4.78639833e+08,\n",
       "       5.65915902e+07, 3.39741821e+09, 7.10900402e+08, 1.00127064e+09,\n",
       "       9.38157552e+08, 8.95824446e+08, 1.03385517e+08, 3.50431509e+08,\n",
       "       1.02369119e+09, 7.19313480e+08, 3.94143050e+08, 1.83536432e+08,\n",
       "       5.02933142e+08, 4.88147001e+08, 1.99081406e+08, 5.90396518e+08,\n",
       "       6.85190780e+08, 8.46235502e+08, 9.76889970e+07, 6.16673977e+08,\n",
       "       1.74381098e+08, 6.17292937e+08, 9.29866891e+08, 7.92111200e+08,\n",
       "       2.05091373e+08, 4.14127538e+08, 9.27870369e+07, 1.57108904e+09,\n",
       "       6.31735134e+08, 9.35752307e+08, 3.11307521e+08, 4.63066310e+08,\n",
       "       8.86274302e+08, 9.19871212e+07, 4.62135071e+08, 1.78032106e+08,\n",
       "       1.07638890e+09, 3.87135705e+08, 3.64937018e+08, 7.58869884e+08,\n",
       "       3.97535780e+08, 7.60190828e+07, 1.86133634e+08, 4.58803690e+08,\n",
       "       3.51052445e+08, 2.46508512e+08, 3.11363862e+08, 5.48665129e+08,\n",
       "       5.15166003e+08, 1.04367275e+09, 3.99026995e+08, 2.22010149e+08,\n",
       "       1.52830973e+09, 2.30792182e+08, 6.46866904e+07, 2.58459102e+08,\n",
       "       4.84665041e+08, 7.87530173e+08, 1.72783797e+08, 4.68210912e+08,\n",
       "       6.94825267e+08, 2.38793293e+08, 4.68450790e+08, 7.52310010e+08,\n",
       "       1.10759882e+09, 1.60690332e+09, 3.04920506e+08, 1.97592411e+08,\n",
       "       9.37483957e+07, 2.80600029e+08, 3.20366262e+08, 6.66886607e+08,\n",
       "       5.02053564e+08, 2.56439259e+08, 2.26977054e+08, 8.84276687e+07,\n",
       "       5.91783979e+08, 3.67466708e+08, 2.27639930e+08, 2.80284182e+08,\n",
       "       3.79770653e+08, 1.19733726e+09, 3.92447969e+08, 3.26728089e+09,\n",
       "       3.41232229e+08, 1.14498860e+08, 3.84832021e+08, 4.95379659e+08,\n",
       "       4.15796092e+08, 2.03615401e+08, 1.47352788e+08, 5.17371298e+08,\n",
       "       2.84882648e+08, 6.31596336e+08, 1.23096851e+08, 6.52891014e+08,\n",
       "       3.20691569e+08, 3.62493894e+08, 1.61441298e+09, 2.09958437e+08,\n",
       "       2.37328097e+08, 4.73003764e+08, 1.51600253e+08, 2.48922560e+08,\n",
       "       5.49575390e+08, 5.26806768e+08, 5.67802170e+08, 3.36798388e+08,\n",
       "       1.04461913e+09, 1.47197667e+08, 1.36189324e+08, 1.09113930e+09,\n",
       "       1.61968135e+08, 1.01750440e+09, 2.11590856e+08, 1.99514973e+08,\n",
       "       3.24042697e+08, 1.04141360e+09, 7.05977013e+08, 1.91035792e+08,\n",
       "       3.45699763e+08, 2.68091834e+08, 2.02602214e+08, 2.62241571e+08,\n",
       "       9.85946024e+08, 2.27380883e+08, 2.91524548e+08, 8.89147174e+08,\n",
       "       1.39818298e+08, 1.89238618e+09, 1.70621020e+09, 8.14404253e+08,\n",
       "       2.54626491e+07, 1.01353382e+08, 5.62356781e+08, 1.24375940e+08,\n",
       "       1.10986029e+09, 9.45231495e+08, 1.10403582e+08, 3.64463716e+07,\n",
       "       6.19246354e+08, 2.01972579e+08, 3.29374023e+08, 2.40126219e+08,\n",
       "       1.58195189e+08, 2.60877078e+08, 2.57230550e+08, 6.48289907e+08,\n",
       "       1.22023083e+08, 3.10035740e+08, 1.14475720e+09, 2.36841206e+08,\n",
       "       5.30725314e+08, 3.18148966e+08, 5.83789705e+08, 2.37681995e+08,\n",
       "       4.76319211e+08, 3.24380957e+08, 3.85316353e+08, 2.11339470e+08,\n",
       "       2.08297166e+08, 5.29969320e+08, 5.85792818e+08, 7.34104847e+08,\n",
       "       9.26179961e+07, 2.59446492e+08, 1.23404672e+08, 5.03929173e+08,\n",
       "       5.48410598e+08, 2.92093888e+08, 4.16373166e+08, 9.67663962e+07,\n",
       "       6.58450753e+08, 7.45465686e+08, 7.16145470e+08, 2.10933499e+08,\n",
       "       4.04607967e+08, 3.70637393e+08, 2.76362358e+08, 4.25420493e+08,\n",
       "       7.28909560e+08, 1.70034868e+08, 9.39004195e+07, 2.91825321e+08,\n",
       "       1.46122895e+09, 5.02401664e+08, 4.62822706e+08, 8.62470892e+08,\n",
       "       1.25135300e+08, 3.06151639e+08, 1.15063523e+08, 3.81096979e+08,\n",
       "       2.46807545e+08, 5.67195669e+08, 5.43907481e+08, 3.79479046e+08,\n",
       "       3.20491189e+08, 1.20177955e+08, 8.64430276e+08, 5.26347563e+08,\n",
       "       4.81110131e+08, 1.23730375e+09, 2.74833988e+08, 1.58677945e+08,\n",
       "       3.98558396e+08, 5.29298750e+08, 4.91409526e+08, 1.33804361e+09,\n",
       "       4.65136669e+08, 6.92983747e+07, 1.99920600e+08, 8.43324301e+08,\n",
       "       3.15540764e+06, 6.46430285e+08, 1.51929243e+08, 1.37656456e+09,\n",
       "       3.01492235e+08, 4.64721807e+08, 1.85944163e+08, 5.59611771e+08,\n",
       "       7.30403338e+08, 1.44021548e+08, 3.46627287e+08, 2.17585745e+08,\n",
       "       4.08638507e+08, 3.51746945e+08, 9.19718019e+07, 1.95460677e+09,\n",
       "       5.29757405e+08, 1.26473846e+08, 3.95418997e+08, 1.83092954e+08,\n",
       "       1.98851601e+08, 1.47666227e+08, 3.49121513e+08, 3.78288095e+08,\n",
       "       2.54200447e+08, 1.06707344e+08, 3.85298778e+08, 2.21643479e+08,\n",
       "       4.70138671e+08, 1.03983069e+08, 2.81670412e+08, 4.45127367e+08,\n",
       "       1.76932329e+09, 2.05753264e+08, 6.15118673e+08, 7.43906778e+08,\n",
       "       5.12003109e+08, 3.62630556e+08, 3.52418616e+08, 2.84505528e+08,\n",
       "       4.33902894e+08, 1.36898997e+08, 3.99372374e+08, 1.72106405e+08,\n",
       "       4.90544573e+08, 2.22839552e+08, 1.27590467e+08, 1.57629395e+08,\n",
       "       2.85285834e+07, 3.04974669e+08, 1.39195077e+08, 4.45797520e+08,\n",
       "       3.54227990e+08, 1.62376936e+08, 4.52300978e+08, 8.05314156e+07,\n",
       "       2.99044866e+08, 1.81216296e+08, 1.86009209e+08, 5.03096382e+07,\n",
       "       3.07811384e+08, 2.84455728e+08, 3.90298154e+08, 2.16487847e+08,\n",
       "       1.68969491e+08, 7.43559895e+08, 1.36563626e+08, 1.46931330e+08,\n",
       "       8.98695684e+08, 3.36154911e+08, 1.35340251e+09, 4.16372796e+08,\n",
       "       5.27740708e+08, 4.15165037e+08, 2.89312800e+08, 1.61487031e+08,\n",
       "       3.50386545e+08, 6.58186834e+08, 3.64597660e+08, 1.67677609e+08,\n",
       "       7.11427980e+08, 1.78255993e+08, 1.32038011e+09, 3.21469762e+08,\n",
       "       9.26247995e+07, 2.98077520e+08, 4.52836350e+08, 3.98138982e+08,\n",
       "       3.41856472e+08, 1.44923464e+08, 1.35517604e+08, 4.19340540e+08,\n",
       "       1.70476235e+08, 1.32806768e+08, 2.47425520e+08, 6.41175370e+08,\n",
       "       2.30032105e+08, 3.02577509e+08, 5.76580567e+08, 1.59725402e+08,\n",
       "       2.39575970e+08, 6.49528000e+08, 3.04418120e+08, 2.42652977e+08,\n",
       "       2.08341373e+08, 1.85061826e+08, 1.60628082e+09, 3.40459034e+08,\n",
       "       2.10474310e+08, 1.19874586e+09, 8.83555115e+08, 8.89139117e+08,\n",
       "       9.30862149e+08, 3.33647816e+08, 4.05881989e+08, 4.46937682e+07,\n",
       "       2.10816688e+08, 2.64470497e+08, 6.16836734e+08, 6.60237877e+08,\n",
       "       3.94023352e+08, 3.87479216e+08, 2.79989962e+08, 6.58840437e+08,\n",
       "       4.15626893e+08, 2.99788295e+08, 4.13518048e+08, 3.52154927e+08,\n",
       "       1.30230213e+09, 1.20647180e+08, 4.37122729e+08, 9.91686296e+07,\n",
       "       5.88601035e+07, 7.51153986e+08, 9.62051774e+08, 2.54869571e+08,\n",
       "       4.99160905e+09, 2.15094404e+08, 3.61647837e+08, 4.43057498e+08,\n",
       "       1.19272927e+08, 1.17004713e+08, 3.07888608e+08, 1.49720876e+08,\n",
       "       1.65855846e+08, 5.31985819e+08, 5.29371066e+08, 2.10316638e+08,\n",
       "       3.81284114e+08, 4.90760066e+08, 1.92345997e+08, 1.80812627e+09,\n",
       "       1.36377864e+08, 1.79184867e+08, 1.51825121e+08, 1.75773118e+09,\n",
       "       6.03735294e+08, 5.70462208e+08, 3.81006941e+08, 4.86198390e+08,\n",
       "       3.68275571e+08, 8.19524220e+08, 3.52539967e+08, 1.10029287e+08,\n",
       "       5.87772153e+08, 3.40169686e+08, 1.91471586e+08, 4.47387277e+08,\n",
       "       1.24349100e+09, 2.56578882e+08, 1.03069197e+08])"
      ]
     },
     "execution_count": 27,
     "metadata": {},
     "output_type": "execute_result"
    }
   ],
   "source": [
    "model.predict(X_test)"
   ]
  },
  {
   "cell_type": "code",
   "execution_count": 28,
   "metadata": {
    "scrolled": true
   },
   "outputs": [
    {
     "data": {
      "text/plain": [
       "0.9894455389866044"
      ]
     },
     "execution_count": 28,
     "metadata": {},
     "output_type": "execute_result"
    }
   ],
   "source": [
    "model.score(X_test,y_test) #큰 차이가 없음 (오버피팅이 안되고, 설명력이 높음을 알 수 있다.)"
   ]
  },
  {
   "cell_type": "code",
   "execution_count": 29,
   "metadata": {},
   "outputs": [
    {
     "data": {
      "image/png": "[encoded data removed]",
      "text/plain": [
       "<Figure size 432x288 with 1 Axes>"
      ]
     },
     "metadata": {
      "needs_background": "light"
     },
     "output_type": "display_data"
    }
   ],
   "source": [
    "# 예측 vs. 실제데이터 plot\n",
    "y_pred = model.predict(X_test) \n",
    "plt.plot(y_test, y_pred, '.')\n",
    "\n",
    "# 예측과 실제가 비슷하면, 라인상에 분포함\n",
    "x = np.linspace(0,1/2*(1e9+1e10))\n",
    "y = x\n",
    "plt.plot(x, y)\n",
    "plt.show()"
   ]
  },
  {
   "cell_type": "code",
   "execution_count": 30,
   "metadata": {},
   "outputs": [
    {
     "data": {
      "text/plain": [
       "Ridge(alpha=1.0, copy_X=True, fit_intercept=True, max_iter=None,\n",
       "   normalize=False, random_state=None, solver='auto', tol=0.001)"
      ]
     },
     "execution_count": 30,
     "metadata": {},
     "output_type": "execute_result"
    }
   ],
   "source": [
    "#Ridge, Lasso 회귀\n",
    "from sklearn.linear_model import Ridge, Lasso\n",
    "\n",
    "ridge=Ridge(alpha=1.0)#alpha: 얼마나 정규화를 할건지 정하는 양수 하이퍼파라미터 (클수록 더 정규화)\n",
    "ridge.fit(X_train, y_train)"
   ]
  },
  {
   "cell_type": "code",
   "execution_count": 31,
   "metadata": {
    "scrolled": true
   },
   "outputs": [
    {
     "data": {
      "text/plain": [
       "<bound method BaseEstimator.get_params of Ridge(alpha=1.0, copy_X=True, fit_intercept=True, max_iter=None,\n",
       "   normalize=False, random_state=None, solver='auto', tol=0.001)>"
      ]
     },
     "execution_count": 31,
     "metadata": {},
     "output_type": "execute_result"
    }
   ],
   "source": [
    "ridge.get_params"
   ]
  },
  {
   "cell_type": "code",
   "execution_count": 32,
   "metadata": {},
   "outputs": [
    {
     "data": {
      "text/plain": [
       "0.9909172733005008"
      ]
     },
     "execution_count": 32,
     "metadata": {},
     "output_type": "execute_result"
    }
   ],
   "source": [
    "#R-square\n",
    "ridge.score(X_train,y_train)"
   ]
  },
  {
   "cell_type": "code",
   "execution_count": 33,
   "metadata": {},
   "outputs": [
    {
     "data": {
      "text/plain": [
       "0.9909300062712626"
      ]
     },
     "execution_count": 33,
     "metadata": {},
     "output_type": "execute_result"
    }
   ],
   "source": [
    "ridge=Ridge(alpha=0.3)\n",
    "ridge.fit(X_train, y_train)\n",
    "ridge.score(X_train,y_train)"
   ]
  },
  {
   "cell_type": "code",
   "execution_count": 34,
   "metadata": {},
   "outputs": [
    {
     "name": "stderr",
     "output_type": "stream",
     "text": [
      "C:\\ProgramData\\Anaconda3\\lib\\site-packages\\sklearn\\linear_model\\coordinate_descent.py:491: ConvergenceWarning: Objective did not converge. You might want to increase the number of iterations. Fitting data with very small alpha may cause precision problems.\n",
      "  ConvergenceWarning)\n"
     ]
    },
    {
     "data": {
      "text/plain": [
       "0.9909301402055547"
      ]
     },
     "execution_count": 34,
     "metadata": {},
     "output_type": "execute_result"
    }
   ],
   "source": [
    "#Lasso\n",
    "lasso=Lasso(alpha=0.3)\n",
    "lasso.fit(X_train, y_train)\n",
    "lasso.score(X_train, y_train)"
   ]
  },
  {
   "cell_type": "markdown",
   "metadata": {},
   "source": [
    "beta, mse 구하기"
   ]
  },
  {
   "cell_type": "code",
   "execution_count": 49,
   "metadata": {},
   "outputs": [],
   "source": [
    "from numpy.linalg import inv \n",
    "\n",
    "def estimate_beta(x,y):\n",
    "    x2 = np.transpose(x) # x' 구하기\n",
    "    x3 = np.dot(x,x2)  #x'x 구하기\n",
    "    x2y = np.dot(x2,y) #x'y 구하기\n",
    "    \n",
    "    x4 = np.linalg.inv(x3) #역행렬 구하기 위해서 inverse 사용 (X'X)-1\n",
    "    beta_hat = np.dot(x4,x2y) #베타헷 = (X'X)-1X'Y\n",
    "    \n",
    "    return beta_hat"
   ]
  },
  {
   "cell_type": "code",
   "execution_count": 50,
   "metadata": {},
   "outputs": [],
   "source": [
    "x = X_train\n",
    "y = y_train"
   ]
  },
  {
   "cell_type": "code",
   "execution_count": 51,
   "metadata": {},
   "outputs": [
    {
     "ename": "ValueError",
     "evalue": "shapes (1546,1546) and (21,) not aligned: 1546 (dim 1) != 21 (dim 0)",
     "output_type": "error",
     "traceback": [
      "\u001b[1;31m---------------------------------------------------------------------------\u001b[0m",
      "\u001b[1;31mValueError\u001b[0m                                Traceback (most recent call last)",
      "\u001b[1;32m<ipython-input-51-95135b0ba9d1>\u001b[0m in \u001b[0;36m<module>\u001b[1;34m\u001b[0m\n\u001b[0;32m      1\u001b[0m \u001b[1;31m#x행렬에 intercept를 추가해야함\u001b[0m\u001b[1;33m\u001b[0m\u001b[1;33m\u001b[0m\u001b[1;33m\u001b[0m\u001b[0m\n\u001b[1;32m----> 2\u001b[1;33m \u001b[0mestimate_beta\u001b[0m\u001b[1;33m(\u001b[0m\u001b[0mx\u001b[0m\u001b[1;33m,\u001b[0m\u001b[0my\u001b[0m\u001b[1;33m)\u001b[0m\u001b[1;33m\u001b[0m\u001b[1;33m\u001b[0m\u001b[0m\n\u001b[0m",
      "\u001b[1;32m<ipython-input-49-305823197a55>\u001b[0m in \u001b[0;36mestimate_beta\u001b[1;34m(x, y)\u001b[0m\n\u001b[0;32m      7\u001b[0m \u001b[1;33m\u001b[0m\u001b[0m\n\u001b[0;32m      8\u001b[0m     \u001b[0mx4\u001b[0m \u001b[1;33m=\u001b[0m \u001b[0mnp\u001b[0m\u001b[1;33m.\u001b[0m\u001b[0mlinalg\u001b[0m\u001b[1;33m.\u001b[0m\u001b[0minv\u001b[0m\u001b[1;33m(\u001b[0m\u001b[0mx3\u001b[0m\u001b[1;33m)\u001b[0m \u001b[1;31m#역행렬 구하기 위해서 inverse 사용 (X'X)-1\u001b[0m\u001b[1;33m\u001b[0m\u001b[1;33m\u001b[0m\u001b[0m\n\u001b[1;32m----> 9\u001b[1;33m     \u001b[0mbeta_hat\u001b[0m \u001b[1;33m=\u001b[0m \u001b[0mnp\u001b[0m\u001b[1;33m.\u001b[0m\u001b[0mdot\u001b[0m\u001b[1;33m(\u001b[0m\u001b[0mx4\u001b[0m\u001b[1;33m,\u001b[0m\u001b[0mx2y\u001b[0m\u001b[1;33m)\u001b[0m \u001b[1;31m#베타헷 = (X'X)-1X'Y\u001b[0m\u001b[1;33m\u001b[0m\u001b[1;33m\u001b[0m\u001b[0m\n\u001b[0m\u001b[0;32m     10\u001b[0m \u001b[1;33m\u001b[0m\u001b[0m\n\u001b[0;32m     11\u001b[0m     \u001b[1;32mreturn\u001b[0m \u001b[0mbeta_hat\u001b[0m\u001b[1;33m\u001b[0m\u001b[1;33m\u001b[0m\u001b[0m\n",
      "\u001b[1;31mValueError\u001b[0m: shapes (1546,1546) and (21,) not aligned: 1546 (dim 1) != 21 (dim 0)"
     ]
    }
   ],
   "source": [
    "#x행렬에 intercept를 추가해야함\n",
    "estimate_beta(x,y)"
   ]
  },
  {
   "cell_type": "code",
   "execution_count": 54,
   "metadata": {},
   "outputs": [
    {
     "data": {
      "text/plain": [
       "3013227529654440.0"
      ]
     },
     "execution_count": 54,
     "metadata": {},
     "output_type": "execute_result"
    }
   ],
   "source": [
    "import sklearn as sk\n",
    "sk.metrics.mean_squared_error(y_train, model.predict(X_train))"
   ]
  },
  {
   "cell_type": "code",
   "execution_count": 55,
   "metadata": {},
   "outputs": [],
   "source": [
    "def mean_squared_error(y, t):\n",
    "    return ((y-t)**2).mean(axis=None)"
   ]
  },
  {
   "cell_type": "code",
   "execution_count": 56,
   "metadata": {},
   "outputs": [
    {
     "data": {
      "text/plain": [
       "3013227529654443.5"
      ]
     },
     "execution_count": 56,
     "metadata": {},
     "output_type": "execute_result"
    }
   ],
   "source": [
    "mean_squared_error(y_train, model.predict(X_train))"
   ]
  },
  {
   "cell_type": "code",
   "execution_count": null,
   "metadata": {},
   "outputs": [],
   "source": []
  },
  {
   "cell_type": "code",
   "execution_count": null,
   "metadata": {},
   "outputs": [],
   "source": []
  }
 ],
 "metadata": {
  "kernelspec": {
   "display_name": "Python 3",
   "language": "python",
   "name": "python3"
  },
  "language_info": {
   "codemirror_mode": {
    "name": "ipython",
    "version": 3
   },
   "file_extension": ".py",
   "mimetype": "text/x-python",
   "name": "python",
   "nbconvert_exporter": "python",
   "pygments_lexer": "ipython3",
   "version": "3.6.9"
  }
 },
 "nbformat": 4,
 "nbformat_minor": 4
}
