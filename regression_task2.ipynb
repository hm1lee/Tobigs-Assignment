{
 "cells": [
  {
   "cell_type": "markdown",
   "metadata": {},
   "source": [
    "\n",
    "# 0 - 데이터 준비하기"
   ]
  },
  {
   "cell_type": "code",
   "execution_count": 1,
   "metadata": {},
   "outputs": [],
   "source": [
    "import pandas as pd\n",
    "import numpy as np\n",
    "import seaborn as sns\n",
    "import matplotlib.pyplot as plt"
   ]
  },
  {
   "cell_type": "code",
   "execution_count": 2,
   "metadata": {},
   "outputs": [],
   "source": [
    "df = pd.read_csv('Auction_master_train.csv') \n",
    "\n",
    "\n",
    "# '아파트 경매가격 예측 모델링 대회' 데이터 불러오기"
   ]
  },
  {
   "cell_type": "code",
   "execution_count": 3,
   "metadata": {},
   "outputs": [
    {
     "data": {
      "text/plain": [
       "Auction_key                       0\n",
       "Auction_class                     0\n",
       "Bid_class                         0\n",
       "Claim_price                       0\n",
       "Appraisal_company                 0\n",
       "Appraisal_date                    0\n",
       "Auction_count                     0\n",
       "Auction_miscarriage_count         0\n",
       "Total_land_gross_area             0\n",
       "Total_land_real_area              0\n",
       "Total_land_auction_area           0\n",
       "Total_building_area               0\n",
       "Total_building_auction_area       0\n",
       "Total_appraisal_price             0\n",
       "Minimum_sales_price               0\n",
       "First_auction_date                0\n",
       "Final_auction_date                0\n",
       "Final_result                      0\n",
       "Creditor                          0\n",
       "addr_do                           0\n",
       "addr_si                           0\n",
       "addr_dong                         0\n",
       "addr_li                        1910\n",
       "addr_san                          0\n",
       "addr_bunji1                       4\n",
       "addr_bunji2                    1044\n",
       "addr_etc                          0\n",
       "Apartment_usage                   0\n",
       "Preserve_regist_date              0\n",
       "Total_floor                       0\n",
       "Current_floor                     0\n",
       "Specific                       1869\n",
       "Share_auction_YorN                0\n",
       "road_name                         0\n",
       "road_bunji1                      24\n",
       "road_bunji2                    1778\n",
       "Close_date                        0\n",
       "Close_result                      0\n",
       "point.y                           0\n",
       "point.x                           0\n",
       "Hammer_price                      0\n",
       "dtype: int64"
      ]
     },
     "execution_count": 3,
     "metadata": {},
     "output_type": "execute_result"
    }
   ],
   "source": [
    "df.isnull().sum()"
   ]
  },
  {
   "cell_type": "code",
   "execution_count": 4,
   "metadata": {},
   "outputs": [],
   "source": [
    "del df['road_bunji2']\n",
    "del df['road_bunji1']\n",
    "del df['Specific']\n",
    "del df['addr_bunji2']\n",
    "del df['addr_bunji1']\n",
    "del df['addr_li']"
   ]
  },
  {
   "cell_type": "code",
   "execution_count": 5,
   "metadata": {},
   "outputs": [
    {
     "data": {
      "text/plain": [
       "Auction_key                    0\n",
       "Auction_class                  0\n",
       "Bid_class                      0\n",
       "Claim_price                    0\n",
       "Appraisal_company              0\n",
       "Appraisal_date                 0\n",
       "Auction_count                  0\n",
       "Auction_miscarriage_count      0\n",
       "Total_land_gross_area          0\n",
       "Total_land_real_area           0\n",
       "Total_land_auction_area        0\n",
       "Total_building_area            0\n",
       "Total_building_auction_area    0\n",
       "Total_appraisal_price          0\n",
       "Minimum_sales_price            0\n",
       "First_auction_date             0\n",
       "Final_auction_date             0\n",
       "Final_result                   0\n",
       "Creditor                       0\n",
       "addr_do                        0\n",
       "addr_si                        0\n",
       "addr_dong                      0\n",
       "addr_san                       0\n",
       "addr_etc                       0\n",
       "Apartment_usage                0\n",
       "Preserve_regist_date           0\n",
       "Total_floor                    0\n",
       "Current_floor                  0\n",
       "Share_auction_YorN             0\n",
       "road_name                      0\n",
       "Close_date                     0\n",
       "Close_result                   0\n",
       "point.y                        0\n",
       "point.x                        0\n",
       "Hammer_price                   0\n",
       "dtype: int64"
      ]
     },
     "execution_count": 5,
     "metadata": {},
     "output_type": "execute_result"
    }
   ],
   "source": [
    "df.isnull().sum()"
   ]
  },
  {
   "cell_type": "code",
   "execution_count": 6,
   "metadata": {
    "scrolled": false
   },
   "outputs": [
    {
     "data": {
      "text/html": [
       "<div>\n",
       "<style scoped>\n",
       "    .dataframe tbody tr th:only-of-type {\n",
       "        vertical-align: middle;\n",
       "    }\n",
       "\n",
       "    .dataframe tbody tr th {\n",
       "        vertical-align: top;\n",
       "    }\n",
       "\n",
       "    .dataframe thead th {\n",
       "        text-align: right;\n",
       "    }\n",
       "</style>\n",
       "<table border=\"1\" class=\"dataframe\">\n",
       "  <thead>\n",
       "    <tr style=\"text-align: right;\">\n",
       "      <th></th>\n",
       "      <th>Auction_key</th>\n",
       "      <th>Claim_price</th>\n",
       "      <th>Auction_count</th>\n",
       "      <th>Auction_miscarriage_count</th>\n",
       "      <th>Total_land_gross_area</th>\n",
       "      <th>Total_land_real_area</th>\n",
       "      <th>Total_land_auction_area</th>\n",
       "      <th>Total_building_area</th>\n",
       "      <th>Total_building_auction_area</th>\n",
       "      <th>Total_appraisal_price</th>\n",
       "      <th>Minimum_sales_price</th>\n",
       "      <th>Total_floor</th>\n",
       "      <th>Current_floor</th>\n",
       "      <th>point.y</th>\n",
       "      <th>point.x</th>\n",
       "      <th>Hammer_price</th>\n",
       "    </tr>\n",
       "  </thead>\n",
       "  <tbody>\n",
       "    <tr>\n",
       "      <th>count</th>\n",
       "      <td>1933.000000</td>\n",
       "      <td>1.933000e+03</td>\n",
       "      <td>1933.000000</td>\n",
       "      <td>1933.000000</td>\n",
       "      <td>1.933000e+03</td>\n",
       "      <td>1933.000000</td>\n",
       "      <td>1933.000000</td>\n",
       "      <td>1933.000000</td>\n",
       "      <td>1933.000000</td>\n",
       "      <td>1.933000e+03</td>\n",
       "      <td>1.933000e+03</td>\n",
       "      <td>1933.000000</td>\n",
       "      <td>1933.000000</td>\n",
       "      <td>1933.000000</td>\n",
       "      <td>1933.000000</td>\n",
       "      <td>1.933000e+03</td>\n",
       "    </tr>\n",
       "    <tr>\n",
       "      <th>mean</th>\n",
       "      <td>1380.271081</td>\n",
       "      <td>3.703908e+08</td>\n",
       "      <td>1.836006</td>\n",
       "      <td>0.788412</td>\n",
       "      <td>3.458714e+04</td>\n",
       "      <td>42.333802</td>\n",
       "      <td>41.310776</td>\n",
       "      <td>96.417693</td>\n",
       "      <td>94.148810</td>\n",
       "      <td>4.973592e+08</td>\n",
       "      <td>4.155955e+08</td>\n",
       "      <td>16.980859</td>\n",
       "      <td>8.817900</td>\n",
       "      <td>36.698018</td>\n",
       "      <td>127.731667</td>\n",
       "      <td>4.726901e+08</td>\n",
       "    </tr>\n",
       "    <tr>\n",
       "      <th>std</th>\n",
       "      <td>801.670470</td>\n",
       "      <td>1.337869e+09</td>\n",
       "      <td>0.938319</td>\n",
       "      <td>0.831715</td>\n",
       "      <td>9.442101e+04</td>\n",
       "      <td>65.274404</td>\n",
       "      <td>65.385900</td>\n",
       "      <td>106.323240</td>\n",
       "      <td>106.845985</td>\n",
       "      <td>7.873851e+08</td>\n",
       "      <td>5.030312e+08</td>\n",
       "      <td>9.509021</td>\n",
       "      <td>8.044644</td>\n",
       "      <td>1.150269</td>\n",
       "      <td>0.993055</td>\n",
       "      <td>5.574493e+08</td>\n",
       "    </tr>\n",
       "    <tr>\n",
       "      <th>min</th>\n",
       "      <td>1.000000</td>\n",
       "      <td>0.000000e+00</td>\n",
       "      <td>1.000000</td>\n",
       "      <td>0.000000</td>\n",
       "      <td>0.000000e+00</td>\n",
       "      <td>0.000000</td>\n",
       "      <td>0.000000</td>\n",
       "      <td>9.390000</td>\n",
       "      <td>1.500000</td>\n",
       "      <td>4.285000e+06</td>\n",
       "      <td>4.285000e+06</td>\n",
       "      <td>3.000000</td>\n",
       "      <td>0.000000</td>\n",
       "      <td>35.051385</td>\n",
       "      <td>126.809393</td>\n",
       "      <td>6.303000e+06</td>\n",
       "    </tr>\n",
       "    <tr>\n",
       "      <th>25%</th>\n",
       "      <td>691.000000</td>\n",
       "      <td>7.746112e+07</td>\n",
       "      <td>1.000000</td>\n",
       "      <td>0.000000</td>\n",
       "      <td>2.997000e+03</td>\n",
       "      <td>25.870000</td>\n",
       "      <td>24.570000</td>\n",
       "      <td>61.520000</td>\n",
       "      <td>59.970000</td>\n",
       "      <td>2.090000e+08</td>\n",
       "      <td>1.750000e+08</td>\n",
       "      <td>12.000000</td>\n",
       "      <td>3.000000</td>\n",
       "      <td>35.188590</td>\n",
       "      <td>126.959167</td>\n",
       "      <td>1.975550e+08</td>\n",
       "    </tr>\n",
       "    <tr>\n",
       "      <th>50%</th>\n",
       "      <td>1395.000000</td>\n",
       "      <td>1.728143e+08</td>\n",
       "      <td>2.000000</td>\n",
       "      <td>1.000000</td>\n",
       "      <td>1.424140e+04</td>\n",
       "      <td>37.510000</td>\n",
       "      <td>36.790000</td>\n",
       "      <td>84.900000</td>\n",
       "      <td>84.860000</td>\n",
       "      <td>3.600000e+08</td>\n",
       "      <td>3.120000e+08</td>\n",
       "      <td>15.000000</td>\n",
       "      <td>7.000000</td>\n",
       "      <td>37.500862</td>\n",
       "      <td>127.065003</td>\n",
       "      <td>3.544500e+08</td>\n",
       "    </tr>\n",
       "    <tr>\n",
       "      <th>75%</th>\n",
       "      <td>2062.000000</td>\n",
       "      <td>3.565089e+08</td>\n",
       "      <td>2.000000</td>\n",
       "      <td>1.000000</td>\n",
       "      <td>4.140310e+04</td>\n",
       "      <td>51.790000</td>\n",
       "      <td>51.320000</td>\n",
       "      <td>114.940000</td>\n",
       "      <td>114.850000</td>\n",
       "      <td>5.720000e+08</td>\n",
       "      <td>4.864000e+08</td>\n",
       "      <td>21.000000</td>\n",
       "      <td>12.000000</td>\n",
       "      <td>37.566116</td>\n",
       "      <td>129.018054</td>\n",
       "      <td>5.599000e+08</td>\n",
       "    </tr>\n",
       "    <tr>\n",
       "      <th>max</th>\n",
       "      <td>2762.000000</td>\n",
       "      <td>2.286481e+10</td>\n",
       "      <td>13.000000</td>\n",
       "      <td>9.000000</td>\n",
       "      <td>3.511936e+06</td>\n",
       "      <td>2665.840000</td>\n",
       "      <td>2665.840000</td>\n",
       "      <td>4255.070000</td>\n",
       "      <td>4255.070000</td>\n",
       "      <td>2.777500e+10</td>\n",
       "      <td>1.422080e+10</td>\n",
       "      <td>80.000000</td>\n",
       "      <td>65.000000</td>\n",
       "      <td>37.685575</td>\n",
       "      <td>129.255872</td>\n",
       "      <td>1.515100e+10</td>\n",
       "    </tr>\n",
       "  </tbody>\n",
       "</table>\n",
       "</div>"
      ],
      "text/plain": [
       "       Auction_key   Claim_price  Auction_count  Auction_miscarriage_count  \\\n",
       "count  1933.000000  1.933000e+03    1933.000000                1933.000000   \n",
       "mean   1380.271081  3.703908e+08       1.836006                   0.788412   \n",
       "std     801.670470  1.337869e+09       0.938319                   0.831715   \n",
       "min       1.000000  0.000000e+00       1.000000                   0.000000   \n",
       "25%     691.000000  7.746112e+07       1.000000                   0.000000   \n",
       "50%    1395.000000  1.728143e+08       2.000000                   1.000000   \n",
       "75%    2062.000000  3.565089e+08       2.000000                   1.000000   \n",
       "max    2762.000000  2.286481e+10      13.000000                   9.000000   \n",
       "\n",
       "       Total_land_gross_area  Total_land_real_area  Total_land_auction_area  \\\n",
       "count           1.933000e+03           1933.000000              1933.000000   \n",
       "mean            3.458714e+04             42.333802                41.310776   \n",
       "std             9.442101e+04             65.274404                65.385900   \n",
       "min             0.000000e+00              0.000000                 0.000000   \n",
       "25%             2.997000e+03             25.870000                24.570000   \n",
       "50%             1.424140e+04             37.510000                36.790000   \n",
       "75%             4.140310e+04             51.790000                51.320000   \n",
       "max             3.511936e+06           2665.840000              2665.840000   \n",
       "\n",
       "       Total_building_area  Total_building_auction_area  \\\n",
       "count          1933.000000                  1933.000000   \n",
       "mean             96.417693                    94.148810   \n",
       "std             106.323240                   106.845985   \n",
       "min               9.390000                     1.500000   \n",
       "25%              61.520000                    59.970000   \n",
       "50%              84.900000                    84.860000   \n",
       "75%             114.940000                   114.850000   \n",
       "max            4255.070000                  4255.070000   \n",
       "\n",
       "       Total_appraisal_price  Minimum_sales_price  Total_floor  Current_floor  \\\n",
       "count           1.933000e+03         1.933000e+03  1933.000000    1933.000000   \n",
       "mean            4.973592e+08         4.155955e+08    16.980859       8.817900   \n",
       "std             7.873851e+08         5.030312e+08     9.509021       8.044644   \n",
       "min             4.285000e+06         4.285000e+06     3.000000       0.000000   \n",
       "25%             2.090000e+08         1.750000e+08    12.000000       3.000000   \n",
       "50%             3.600000e+08         3.120000e+08    15.000000       7.000000   \n",
       "75%             5.720000e+08         4.864000e+08    21.000000      12.000000   \n",
       "max             2.777500e+10         1.422080e+10    80.000000      65.000000   \n",
       "\n",
       "           point.y      point.x  Hammer_price  \n",
       "count  1933.000000  1933.000000  1.933000e+03  \n",
       "mean     36.698018   127.731667  4.726901e+08  \n",
       "std       1.150269     0.993055  5.574493e+08  \n",
       "min      35.051385   126.809393  6.303000e+06  \n",
       "25%      35.188590   126.959167  1.975550e+08  \n",
       "50%      37.500862   127.065003  3.544500e+08  \n",
       "75%      37.566116   129.018054  5.599000e+08  \n",
       "max      37.685575   129.255872  1.515100e+10  "
      ]
     },
     "execution_count": 6,
     "metadata": {},
     "output_type": "execute_result"
    }
   ],
   "source": [
    "df.describe() #데이터의 요약 통계 확인"
   ]
  },
  {
   "cell_type": "markdown",
   "metadata": {},
   "source": [
    "#  #피쳐 설명\n",
    "\n",
    "# (피쳐의 특징을 이해하는 것이 분석에 도움이 될 것 같아서 작성함)\n",
    "\n",
    "Auction_key - > 경매 아파트 고유 키값 \n",
    "\n",
    "Auction_class -> 경매 구분 (강제 경매 / 임의 경매)\n",
    "\n",
    "Bid_class -> 입찰 구분 (일반 / 개별 / 일괄)\t\n",
    "\n",
    "Claim_price\t-> 경매 신청인의 청구 금액\n",
    "\n",
    "Appraisal_company -> 감정사\n",
    "\n",
    "Appraisal_date -> 감정일자\n",
    "\n",
    "Auction_count -> 총 경매횟수\n",
    "\n",
    "Auction_miscarriage_count -> 총 유찰횟수\n",
    "\n",
    "Total_land_gross_area -> 총 토지 전체면적\n",
    "\n",
    "Total_land_real_area -> 총 토지 실면적\n",
    "\n",
    "Total_land_auction_area -> 총 토지 경매면적\n",
    "\n",
    "Total_building_area -> 총 건물면적\n",
    "\n",
    "Total_building_aution_area -> 총 건물 경매면적\n",
    "\n",
    "Total_appraisal_price -> 총 감정가\n",
    "\n",
    "Minimum_sales_price -> 최저매각가격\n",
    "\n",
    "First_auction_date -> 최초경매일\n",
    "\n",
    "Final_auction_date -> 최종경매일\n",
    "\n",
    "Final_result -> 최종결과\n",
    "\n",
    "Creditor -> 채권자, 경매 신청인\n",
    "\n",
    "addr_do -> 주소_시도\n",
    "\n",
    "addr_si -> 주소_시군구\n",
    "\n",
    "addr_dong -> 주소_읍면동\n",
    "\n",
    "addr_li -> 주소_리\n",
    "\n",
    "addr_san -> 주소_산번지 여부\n",
    "\n",
    "addr_bunji1 -> 주소_번지1\n",
    "\n",
    "addr_bunji2 -> 주소_번지2\n",
    "\n",
    "addr_etc -> 주소_기타주소\n",
    "\n",
    "Apartment_usage -> 건물의 대표 용도\n",
    "\n",
    "Completion_date -> 준공일\n",
    "\n",
    "Preserve_regist_date -> 보존등기일, 건물을 신축하고 처음으로 등기\n",
    "\n",
    "Total_floor -> 총 층수\n",
    "\n",
    "Current_floor -> 현재 층수\n",
    "\n",
    "Specific -> 기타, 특이사항\n",
    "\n",
    "Share_auction_YorN -> 지분경매 여부 (Y)\n",
    "\n",
    "road_name -> 도로명 주소_ 도로명\t\n",
    "\n",
    "road_bunji1\t-> 도로명 주소_번지1\n",
    "\n",
    "road_bunji2\t-> 도로명 주소_번지2\n",
    "\n",
    "Close_date\t-> 종국일자\n",
    "\n",
    "Close_result -> 종국 결과 (낙찰 / 배당) 낙찰금을 입금해야 채권자가 배당을 함\n",
    "\n",
    "point.y\t-> 위도\n",
    "\n",
    "point.x -> 경도\n",
    "\n",
    "Hammer_price -> 낙찰가\n"
   ]
  },
  {
   "cell_type": "markdown",
   "metadata": {},
   "source": [
    "# 1 -  EDA 및 전처리 인코딩 (3개씩)"
   ]
  },
  {
   "cell_type": "code",
   "execution_count": 7,
   "metadata": {},
   "outputs": [],
   "source": [
    "df.Apartment_usage.replace({'아파트':0, '주상복합':1},inplace=True)"
   ]
  },
  {
   "cell_type": "code",
   "execution_count": 8,
   "metadata": {},
   "outputs": [],
   "source": [
    "df.Auction_class.replace({'임의':0, '강제':1},inplace=True)"
   ]
  },
  {
   "cell_type": "code",
   "execution_count": 9,
   "metadata": {},
   "outputs": [],
   "source": [
    "df.Bid_class.replace({'개별':0,'일괄':0, '일반':1},inplace=True)"
   ]
  },
  {
   "cell_type": "code",
   "execution_count": 10,
   "metadata": {},
   "outputs": [],
   "source": [
    "df.Final_result.replace({'낙찰':1},inplace=True)"
   ]
  },
  {
   "cell_type": "code",
   "execution_count": 11,
   "metadata": {},
   "outputs": [],
   "source": [
    "df.addr_do.replace({'부산':0, '서울':1},inplace=True)"
   ]
  },
  {
   "cell_type": "code",
   "execution_count": 12,
   "metadata": {},
   "outputs": [],
   "source": [
    "df.Share_auction_YorN.replace({'Y':0, 'N':1},inplace=True)"
   ]
  },
  {
   "cell_type": "code",
   "execution_count": 13,
   "metadata": {},
   "outputs": [
    {
     "data": {
      "text/plain": [
       "1    1796\n",
       "0     137\n",
       "Name: Bid_class, dtype: int64"
      ]
     },
     "execution_count": 13,
     "metadata": {},
     "output_type": "execute_result"
    }
   ],
   "source": [
    "df['Bid_class'].value_counts()"
   ]
  },
  {
   "cell_type": "markdown",
   "metadata": {},
   "source": [
    "# 2 - Target 변수로 선형회귀 분석"
   ]
  },
  {
   "cell_type": "code",
   "execution_count": 14,
   "metadata": {
    "scrolled": true
   },
   "outputs": [
    {
     "data": {
      "image/png": "[encoded data removed]",
      "text/plain": [
       "<Figure size 432x288 with 2 Axes>"
      ]
     },
     "metadata": {
      "needs_background": "light"
     },
     "output_type": "display_data"
    }
   ],
   "source": [
    "sns.heatmap(df.corr())\n",
    "plt.show()"
   ]
  },
  {
   "cell_type": "code",
   "execution_count": 15,
   "metadata": {
    "scrolled": true
   },
   "outputs": [
    {
     "data": {
      "text/html": [
       "<div>\n",
       "<style scoped>\n",
       "    .dataframe tbody tr th:only-of-type {\n",
       "        vertical-align: middle;\n",
       "    }\n",
       "\n",
       "    .dataframe tbody tr th {\n",
       "        vertical-align: top;\n",
       "    }\n",
       "\n",
       "    .dataframe thead th {\n",
       "        text-align: right;\n",
       "    }\n",
       "</style>\n",
       "<table border=\"1\" class=\"dataframe\">\n",
       "  <thead>\n",
       "    <tr style=\"text-align: right;\">\n",
       "      <th></th>\n",
       "      <th>Minimum_sales_price</th>\n",
       "      <th>Hammer_price</th>\n",
       "    </tr>\n",
       "  </thead>\n",
       "  <tbody>\n",
       "    <tr>\n",
       "      <th>0</th>\n",
       "      <td>668800000</td>\n",
       "      <td>760000000</td>\n",
       "    </tr>\n",
       "    <tr>\n",
       "      <th>1</th>\n",
       "      <td>858400000</td>\n",
       "      <td>971889999</td>\n",
       "    </tr>\n",
       "    <tr>\n",
       "      <th>2</th>\n",
       "      <td>76160000</td>\n",
       "      <td>93399999</td>\n",
       "    </tr>\n",
       "    <tr>\n",
       "      <th>3</th>\n",
       "      <td>230720000</td>\n",
       "      <td>256899000</td>\n",
       "    </tr>\n",
       "    <tr>\n",
       "      <th>4</th>\n",
       "      <td>136000000</td>\n",
       "      <td>158660000</td>\n",
       "    </tr>\n",
       "    <tr>\n",
       "      <th>...</th>\n",
       "      <td>...</td>\n",
       "      <td>...</td>\n",
       "    </tr>\n",
       "    <tr>\n",
       "      <th>1928</th>\n",
       "      <td>401000000</td>\n",
       "      <td>402500000</td>\n",
       "    </tr>\n",
       "    <tr>\n",
       "      <th>1929</th>\n",
       "      <td>363200000</td>\n",
       "      <td>430234600</td>\n",
       "    </tr>\n",
       "    <tr>\n",
       "      <th>1930</th>\n",
       "      <td>1028000000</td>\n",
       "      <td>1118999990</td>\n",
       "    </tr>\n",
       "    <tr>\n",
       "      <th>1931</th>\n",
       "      <td>325600000</td>\n",
       "      <td>403000000</td>\n",
       "    </tr>\n",
       "    <tr>\n",
       "      <th>1932</th>\n",
       "      <td>600000000</td>\n",
       "      <td>686010000</td>\n",
       "    </tr>\n",
       "  </tbody>\n",
       "</table>\n",
       "<p>1933 rows × 2 columns</p>\n",
       "</div>"
      ],
      "text/plain": [
       "      Minimum_sales_price  Hammer_price\n",
       "0               668800000     760000000\n",
       "1               858400000     971889999\n",
       "2                76160000      93399999\n",
       "3               230720000     256899000\n",
       "4               136000000     158660000\n",
       "...                   ...           ...\n",
       "1928            401000000     402500000\n",
       "1929            363200000     430234600\n",
       "1930           1028000000    1118999990\n",
       "1931            325600000     403000000\n",
       "1932            600000000     686010000\n",
       "\n",
       "[1933 rows x 2 columns]"
      ]
     },
     "execution_count": 15,
     "metadata": {},
     "output_type": "execute_result"
    }
   ],
   "source": [
    "df[['Minimum_sales_price','Hammer_price']]"
   ]
  },
  {
   "cell_type": "code",
   "execution_count": 16,
   "metadata": {
    "scrolled": true
   },
   "outputs": [
    {
     "data": {
      "image/png": "[encoded data removed]",
      "text/plain": [
       "<Figure size 432x288 with 1 Axes>"
      ]
     },
     "metadata": {
      "needs_background": "light"
     },
     "output_type": "display_data"
    }
   ],
   "source": [
    "plt.scatter(x=df['Minimum_sales_price'],y=df['Hammer_price'])\n",
    "plt.show()"
   ]
  },
  {
   "cell_type": "markdown",
   "metadata": {},
   "source": [
    "# 3 - 데이터의 행렬 통해서 값 비교"
   ]
  },
  {
   "cell_type": "code",
   "execution_count": 86,
   "metadata": {},
   "outputs": [
    {
     "data": {
      "text/plain": [
       "LinearRegression(copy_X=True, fit_intercept=True, n_jobs=None, normalize=False)"
      ]
     },
     "execution_count": 86,
     "metadata": {},
     "output_type": "execute_result"
    }
   ],
   "source": [
    "from sklearn.linear_model import LinearRegression\n",
    "\n",
    "#모델 불러옴\n",
    "model = LinearRegression()\n",
    "#train data에 fit시킴\n",
    "model.fit(X_train, y_train)\n"
   ]
  },
  {
   "cell_type": "code",
   "execution_count": 87,
   "metadata": {
    "scrolled": true
   },
   "outputs": [
    {
     "data": {
      "text/plain": [
       "0.9912897934809027"
      ]
     },
     "execution_count": 87,
     "metadata": {},
     "output_type": "execute_result"
    }
   ],
   "source": [
    "model.score(X_train, y_train) #r-square"
   ]
  },
  {
   "cell_type": "code",
   "execution_count": 88,
   "metadata": {},
   "outputs": [],
   "source": [
    "y_pred = model.predict(X_test)"
   ]
  },
  {
   "cell_type": "code",
   "execution_count": 89,
   "metadata": {},
   "outputs": [
    {
     "data": {
      "text/plain": [
       "3093543454120739.0"
      ]
     },
     "execution_count": 89,
     "metadata": {},
     "output_type": "execute_result"
    }
   ],
   "source": [
    "#MSE\n",
    "import sklearn as sk\n",
    "sk.metrics.mean_squared_error(y_train, model.predict(X_train))"
   ]
  },
  {
   "cell_type": "code",
   "execution_count": 90,
   "metadata": {
    "scrolled": true
   },
   "outputs": [
    {
     "name": "stdout",
     "output_type": "stream",
     "text": [
      "[-1.18963593e+04  1.68029182e+06  1.20218534e+07  3.54112353e-03\n",
      " -2.01088663e+07  3.75767820e+07  2.09981623e+01  6.68354175e+05\n",
      " -8.76432095e+05 -2.24774129e+05  2.40524187e+04  6.35085028e-02\n",
      "  1.04903550e+00  4.39584255e-07  2.66071947e+08 -1.98086967e+07\n",
      "  5.84411317e+04 -3.23551911e+05  3.30839850e+07 -5.62251308e+07\n",
      "  6.50811576e+07]\n",
      "-6403781340.030304\n"
     ]
    }
   ],
   "source": [
    "print(model.coef_) #추정된 회귀계수(intercept제외) 베타들\n",
    "print(model.intercept_) #intercept 베타0"
   ]
  },
  {
   "cell_type": "code",
   "execution_count": 91,
   "metadata": {
    "scrolled": true
   },
   "outputs": [
    {
     "data": {
      "text/plain": [
       "array([4.28889973e+08, 9.59438599e+08, 1.94875157e+08, 3.15333853e+08,\n",
       "       7.00738496e+08, 8.23662102e+07, 6.12640515e+08, 3.37431483e+08,\n",
       "       9.53394756e+08, 4.14007505e+08, 5.86282368e+08, 1.99667735e+08,\n",
       "       7.34482664e+08, 3.68822204e+08, 1.10764530e+08, 2.62653565e+08,\n",
       "       9.78902454e+07, 1.59832590e+08, 8.53688897e+08, 1.29849530e+09,\n",
       "       4.43237831e+08, 2.28105578e+08, 1.65947575e+09, 2.71728817e+08,\n",
       "       1.63042242e+08, 1.52828558e+08, 5.95603578e+08, 1.01961519e+09,\n",
       "       3.95878848e+08, 6.50496130e+07, 1.14612450e+09, 3.27624109e+08,\n",
       "       3.45704954e+08, 6.71644681e+08, 6.14637789e+08, 3.28786221e+08,\n",
       "       4.82204426e+08, 2.95066635e+08, 5.74699683e+08, 5.02630150e+08,\n",
       "       9.74174263e+08, 7.12809629e+07, 3.07709129e+08, 2.83993961e+07,\n",
       "       3.92455637e+08, 1.01849801e+09, 1.85298784e+08, 1.33624060e+09,\n",
       "       4.46469590e+08, 3.36532114e+08, 8.10846620e+08, 9.45594593e+08,\n",
       "       1.32034073e+08, 3.15383785e+08, 8.91385801e+08, 1.84574474e+08,\n",
       "       1.43622881e+08, 2.06368845e+08, 1.02159368e+08, 1.54635361e+08,\n",
       "       1.81352081e+08, 1.40228178e+08, 1.50320895e+08, 4.72002268e+08,\n",
       "       3.93833171e+08, 7.39515095e+07, 2.53489064e+08, 3.98801528e+08,\n",
       "       6.11990319e+08, 1.88833408e+08, 1.28068019e+08, 7.88177871e+07,\n",
       "       1.17671318e+08, 4.09957309e+08, 1.39353236e+08, 4.12827744e+08,\n",
       "       6.84208899e+08, 1.81214909e+08, 1.46380714e+08, 4.09642663e+08,\n",
       "       1.58296090e+08, 2.59976274e+08, 4.40047440e+08, 1.96248783e+08,\n",
       "       3.10915872e+08, 1.61503916e+08, 4.76322280e+08, 7.19389612e+08,\n",
       "       3.41774593e+08, 5.24080737e+08, 1.67889153e+08, 3.55650255e+08,\n",
       "       4.18036353e+08, 1.24127422e+09, 6.98087255e+07, 1.87539098e+08,\n",
       "       3.50198846e+08, 4.52061125e+08, 5.22851775e+08, 2.96409908e+08,\n",
       "       9.81496434e+07, 2.23368052e+08, 4.60614362e+08, 1.43673923e+08,\n",
       "       2.61794125e+08, 2.74689982e+08, 2.20281161e+08, 4.37579780e+08,\n",
       "       6.70250624e+07, 1.05201187e+08, 5.10731326e+08, 6.11298974e+08,\n",
       "       1.16296331e+09, 2.14560731e+08, 4.43052198e+08, 1.29317580e+08,\n",
       "       3.37461365e+08, 5.26824547e+08, 1.03817530e+09, 6.61282428e+08,\n",
       "       3.98394702e+08, 5.09594604e+08, 9.32428359e+08, 1.91780026e+08,\n",
       "       5.08357570e+08, 7.50315771e+08, 4.08952969e+08, 1.07218615e+09,\n",
       "       3.18196936e+08, 8.55736531e+08, 3.28073761e+08, 5.39222503e+08,\n",
       "       4.36186493e+08, 6.59664780e+08, 4.62309114e+08, 9.08779994e+07,\n",
       "       4.77325255e+07, 2.47157252e+08, 3.58517258e+08, 6.48311747e+08,\n",
       "       2.06957641e+08, 3.69465401e+08, 1.34644511e+08, 1.47132387e+08,\n",
       "       7.77225612e+08, 1.65175426e+08, 6.41630260e+08, 3.19723733e+08,\n",
       "       3.42773113e+08, 3.72363258e+08, 5.16805152e+08, 6.83000169e+08,\n",
       "       5.35402906e+08, 2.27215021e+08, 1.19367955e+09, 1.48145840e+08,\n",
       "       1.58452240e+09, 3.10967651e+08, 1.86057743e+08, 3.72515972e+08,\n",
       "       1.74627402e+08, 5.50799120e+08, 8.07635835e+08, 4.20554002e+08,\n",
       "       5.12717847e+08, 5.36674074e+07, 2.26156949e+08, 3.40474469e+08,\n",
       "       2.92363729e+08, 1.08076105e+09, 1.54361207e+08, 9.60266393e+07,\n",
       "       2.69320302e+08, 6.40144797e+08, 5.39771263e+08, 7.11052201e+08,\n",
       "       2.92332338e+08, 3.10603051e+08, 2.94612372e+08, 1.68212278e+09,\n",
       "       3.99201435e+08, 2.15007918e+08, 4.52556803e+08, 3.39787735e+08,\n",
       "       8.84750487e+08, 5.58026767e+08, 1.79936702e+08, 1.58085978e+08,\n",
       "       2.72378945e+08, 6.44216139e+07, 6.73913868e+08, 9.73669980e+07,\n",
       "       1.02579663e+09, 7.83045937e+08, 2.23852111e+08, 3.27596866e+08,\n",
       "       1.45182723e+09, 3.22563939e+09, 6.15739920e+08, 1.18557760e+08,\n",
       "       5.39076665e+08, 2.64372826e+08, 3.13524426e+08, 5.04741391e+08,\n",
       "       2.20772117e+08, 1.59114108e+08, 7.08840377e+08, 1.13598034e+09,\n",
       "       4.80814875e+08, 1.57411311e+09, 1.42713214e+08, 2.38108917e+08,\n",
       "       3.58144427e+08, 7.44310966e+08, 1.19606057e+09, 2.96717437e+08,\n",
       "       4.01267182e+08, 8.04054117e+08, 3.33080981e+08, 4.41647020e+08,\n",
       "       1.42434883e+09, 1.07175530e+09, 2.82283348e+08, 1.84002446e+08,\n",
       "       4.86004910e+08, 1.56143615e+08, 2.90571660e+08, 2.62104037e+08,\n",
       "       2.63826421e+08, 1.23314962e+08, 3.31623726e+08, 9.27022873e+08,\n",
       "       1.42639184e+09, 1.30904647e+08, 5.39861807e+07, 4.84031934e+08,\n",
       "       1.40774955e+09, 1.42129599e+09, 3.68400161e+08, 2.27244752e+08,\n",
       "       4.52275770e+08, 9.27739920e+08, 5.43548040e+08, 3.72661832e+08,\n",
       "       3.67051724e+08, 2.27075828e+08, 9.40493370e+08, 2.66985462e+08,\n",
       "       4.79116178e+08, 1.29369885e+08, 2.45348784e+08, 3.87341957e+08,\n",
       "       4.60408293e+08, 3.50584996e+08, 2.10852986e+08, 1.02598039e+08,\n",
       "       3.49526330e+08, 8.30325791e+08, 1.42211954e+08, 5.16420877e+08,\n",
       "       1.62123280e+08, 5.87003938e+08, 6.84147389e+08, 6.77850099e+08,\n",
       "       3.63634889e+08, 1.24824487e+09, 3.88809880e+08, 2.57972329e+08,\n",
       "       2.27126903e+08, 2.58247706e+08, 6.08436918e+08, 4.14982301e+08,\n",
       "       3.56099148e+08, 9.87046750e+07, 3.93065812e+08, 4.26084473e+08,\n",
       "       2.36932773e+08, 4.93210189e+08, 3.00142036e+08, 4.41164905e+08,\n",
       "       1.20981317e+08, 6.04518770e+08, 5.19064424e+08, 1.49722114e+09,\n",
       "       2.11783367e+08, 1.94101137e+08, 1.12518647e+09, 7.61906440e+08,\n",
       "       3.91631082e+08, 4.90852964e+08, 8.78530511e+07, 1.01919723e+08,\n",
       "       4.60062817e+08, 2.56941842e+08, 1.55311367e+08, 3.13962991e+08,\n",
       "       9.74008749e+07, 3.96801804e+08, 2.78506538e+08, 1.16183704e+08,\n",
       "       4.48450441e+08, 6.74529318e+08, 1.14872570e+08, 5.45155984e+08,\n",
       "       5.56057403e+08, 6.50389153e+08, 7.59865986e+07, 3.85198228e+08,\n",
       "       2.09694651e+08, 2.09967808e+08, 5.32449445e+08, 2.26032066e+08,\n",
       "       7.18628255e+08, 4.69158277e+08, 8.05465155e+08, 9.66245861e+08,\n",
       "       2.88825304e+08, 1.85267841e+08, 1.39758559e+09, 6.11191331e+08,\n",
       "       1.78442349e+09, 1.61492295e+08, 1.30627703e+08, 2.84060690e+08,\n",
       "       3.02309402e+08, 4.11838554e+08, 1.17271811e+08, 5.55636409e+08,\n",
       "       1.02414032e+08, 4.28878077e+08, 1.75329455e+08, 1.19765007e+08,\n",
       "       1.93219710e+08, 2.06647805e+08, 1.62700323e+08, 2.81193145e+08,\n",
       "       4.41852979e+08, 9.66693291e+08, 4.46422699e+08, 4.76359340e+08,\n",
       "       1.46651445e+08, 3.67577238e+08, 2.16939835e+08, 5.79097923e+08,\n",
       "       1.44966389e+08, 4.22629216e+08, 1.93549279e+08, 1.31105977e+08,\n",
       "       4.51948537e+08, 8.53735978e+08, 1.26397163e+08, 7.27378226e+08,\n",
       "       4.20798258e+08, 1.19495001e+09, 2.45609852e+08, 6.23352225e+08,\n",
       "       1.39022105e+08, 4.53062614e+08, 2.74130114e+08, 6.42433169e+07,\n",
       "       4.12456613e+08, 1.57845060e+08, 1.04476487e+09, 3.14510080e+08,\n",
       "       2.89927547e+08, 4.41409854e+08, 8.91421838e+08, 5.71827911e+08,\n",
       "       1.02680659e+08, 3.04658328e+08, 9.84974632e+07, 2.58418917e+08,\n",
       "       7.35769327e+08, 6.10886860e+08, 1.40032551e+08, 7.42710020e+08,\n",
       "       3.18244543e+08, 1.71775894e+08, 2.65230066e+08, 3.43689792e+08,\n",
       "       8.51378934e+08, 6.00670551e+08, 5.59342381e+08, 1.44301990e+08,\n",
       "       3.18246235e+08, 1.45616991e+08, 7.29653720e+08])"
      ]
     },
     "execution_count": 91,
     "metadata": {},
     "output_type": "execute_result"
    }
   ],
   "source": [
    "model.predict(X_test)"
   ]
  },
  {
   "cell_type": "code",
   "execution_count": 92,
   "metadata": {
    "scrolled": true
   },
   "outputs": [
    {
     "data": {
      "text/plain": [
       "0.9847958609169086"
      ]
     },
     "execution_count": 92,
     "metadata": {},
     "output_type": "execute_result"
    }
   ],
   "source": [
    "model.score(X_test,y_test) #큰 차이가 없음 (오버피팅이 안되고, 설명력이 높음을 알 수 있다.)"
   ]
  },
  {
   "cell_type": "code",
   "execution_count": 93,
   "metadata": {},
   "outputs": [
    {
     "data": {
      "image/png": "[encoded data removed]",
      "text/plain": [
       "<Figure size 432x288 with 1 Axes>"
      ]
     },
     "metadata": {
      "needs_background": "light"
     },
     "output_type": "display_data"
    }
   ],
   "source": [
    "# 예측 vs. 실제데이터 plot\n",
    "y_pred = model.predict(X_test) \n",
    "plt.plot(y_test, y_pred, '.')\n",
    "\n",
    "# 예측과 실제가 비슷하면, 라인상에 분포함\n",
    "x = np.linspace(0,1/2*(1e9+1e10))\n",
    "y = x\n",
    "plt.plot(x, y)\n",
    "plt.show()"
   ]
  },
  {
   "cell_type": "code",
   "execution_count": 94,
   "metadata": {},
   "outputs": [
    {
     "name": "stderr",
     "output_type": "stream",
     "text": [
      "C:\\ProgramData\\Anaconda3\\envs\\choi\\lib\\site-packages\\sklearn\\linear_model\\_ridge.py:148: LinAlgWarning: Ill-conditioned matrix (rcond=3.45721e-22): result may not be accurate.\n",
      "  overwrite_a=True).T\n"
     ]
    },
    {
     "data": {
      "text/plain": [
       "Ridge(alpha=1.0, copy_X=True, fit_intercept=True, max_iter=None,\n",
       "      normalize=False, random_state=None, solver='auto', tol=0.001)"
      ]
     },
     "execution_count": 94,
     "metadata": {},
     "output_type": "execute_result"
    }
   ],
   "source": [
    "#Ridge, Lasso 회귀\n",
    "from sklearn.linear_model import Ridge, Lasso\n",
    "\n",
    "ridge=Ridge(alpha=1.0)#alpha: 얼마나 정규화를 할건지 정하는 양수 하이퍼파라미터 (클수록 더 정규화)\n",
    "ridge.fit(X_train, y_train)"
   ]
  },
  {
   "cell_type": "code",
   "execution_count": 95,
   "metadata": {
    "scrolled": true
   },
   "outputs": [
    {
     "data": {
      "text/plain": [
       "<bound method BaseEstimator.get_params of Ridge(alpha=1.0, copy_X=True, fit_intercept=True, max_iter=None,\n",
       "      normalize=False, random_state=None, solver='auto', tol=0.001)>"
      ]
     },
     "execution_count": 95,
     "metadata": {},
     "output_type": "execute_result"
    }
   ],
   "source": [
    "ridge.get_params"
   ]
  },
  {
   "cell_type": "code",
   "execution_count": 96,
   "metadata": {},
   "outputs": [
    {
     "data": {
      "text/plain": [
       "0.9912659948494027"
      ]
     },
     "execution_count": 96,
     "metadata": {},
     "output_type": "execute_result"
    }
   ],
   "source": [
    "#R-square\n",
    "ridge.score(X_train,y_train)"
   ]
  },
  {
   "cell_type": "code",
   "execution_count": 97,
   "metadata": {},
   "outputs": [
    {
     "name": "stderr",
     "output_type": "stream",
     "text": [
      "C:\\ProgramData\\Anaconda3\\envs\\choi\\lib\\site-packages\\sklearn\\linear_model\\_ridge.py:148: LinAlgWarning: Ill-conditioned matrix (rcond=1.07319e-22): result may not be accurate.\n",
      "  overwrite_a=True).T\n"
     ]
    },
    {
     "data": {
      "text/plain": [
       "0.9912792941662498"
      ]
     },
     "execution_count": 97,
     "metadata": {},
     "output_type": "execute_result"
    }
   ],
   "source": [
    "ridge=Ridge(alpha=0.3)\n",
    "ridge.fit(X_train, y_train)\n",
    "ridge.score(X_train,y_train)"
   ]
  },
  {
   "cell_type": "code",
   "execution_count": 98,
   "metadata": {},
   "outputs": [
    {
     "name": "stderr",
     "output_type": "stream",
     "text": [
      "C:\\ProgramData\\Anaconda3\\envs\\choi\\lib\\site-packages\\sklearn\\linear_model\\_coordinate_descent.py:476: ConvergenceWarning: Objective did not converge. You might want to increase the number of iterations. Duality gap: 2.3924644779422843e+18, tolerance: 5.490820647690412e+16\n",
      "  positive)\n"
     ]
    },
    {
     "data": {
      "text/plain": [
       "0.9912855857377051"
      ]
     },
     "execution_count": 98,
     "metadata": {},
     "output_type": "execute_result"
    }
   ],
   "source": [
    "#Lasso\n",
    "lasso=Lasso(alpha=0.3)\n",
    "lasso.fit(X_train, y_train)\n",
    "lasso.score(X_train, y_train)"
   ]
  },
  {
   "cell_type": "markdown",
   "metadata": {},
   "source": [
    "SECOND)"
   ]
  },
  {
   "cell_type": "code",
   "execution_count": 99,
   "metadata": {},
   "outputs": [
    {
     "data": {
      "text/plain": [
       "Index(['Auction_key', 'Auction_class', 'Bid_class', 'Claim_price',\n",
       "       'Appraisal_company', 'Appraisal_date', 'Auction_count',\n",
       "       'Auction_miscarriage_count', 'Total_land_gross_area',\n",
       "       'Total_land_real_area', 'Total_land_auction_area',\n",
       "       'Total_building_area', 'Total_building_auction_area',\n",
       "       'Total_appraisal_price', 'Minimum_sales_price', 'First_auction_date',\n",
       "       'Final_auction_date', 'Final_result', 'Creditor', 'addr_do', 'addr_si',\n",
       "       'addr_dong', 'addr_san', 'addr_etc', 'Apartment_usage',\n",
       "       'Preserve_regist_date', 'Total_floor', 'Current_floor',\n",
       "       'Share_auction_YorN', 'road_name', 'Close_date', 'Close_result',\n",
       "       'point.y', 'point.x', 'Hammer_price'],\n",
       "      dtype='object')"
      ]
     },
     "execution_count": 99,
     "metadata": {},
     "output_type": "execute_result"
    }
   ],
   "source": [
    "df.columns"
   ]
  },
  {
   "cell_type": "code",
   "execution_count": 100,
   "metadata": {
    "scrolled": false
   },
   "outputs": [
    {
     "data": {
      "text/html": [
       "<table class=\"simpletable\">\n",
       "<caption>OLS Regression Results</caption>\n",
       "<tr>\n",
       "  <th>Dep. Variable:</th>      <td>Hammer_price</td>   <th>  R-squared:         </th> <td>   0.989</td> \n",
       "</tr>\n",
       "<tr>\n",
       "  <th>Model:</th>                   <td>OLS</td>       <th>  Adj. R-squared:    </th> <td>   0.989</td> \n",
       "</tr>\n",
       "<tr>\n",
       "  <th>Method:</th>             <td>Least Squares</td>  <th>  F-statistic:       </th> <td>1.771e+05</td>\n",
       "</tr>\n",
       "<tr>\n",
       "  <th>Date:</th>             <td>Mon, 27 Jan 2020</td> <th>  Prob (F-statistic):</th>  <td>  0.00</td>  \n",
       "</tr>\n",
       "<tr>\n",
       "  <th>Time:</th>                 <td>21:54:05</td>     <th>  Log-Likelihood:    </th> <td> -37293.</td> \n",
       "</tr>\n",
       "<tr>\n",
       "  <th>No. Observations:</th>      <td>  1933</td>      <th>  AIC:               </th> <td>7.459e+04</td>\n",
       "</tr>\n",
       "<tr>\n",
       "  <th>Df Residuals:</th>          <td>  1931</td>      <th>  BIC:               </th> <td>7.460e+04</td>\n",
       "</tr>\n",
       "<tr>\n",
       "  <th>Df Model:</th>              <td>     1</td>      <th>                     </th>     <td> </td>    \n",
       "</tr>\n",
       "<tr>\n",
       "  <th>Covariance Type:</th>      <td>nonrobust</td>    <th>                     </th>     <td> </td>    \n",
       "</tr>\n",
       "</table>\n",
       "<table class=\"simpletable\">\n",
       "<tr>\n",
       "           <td></td>              <th>coef</th>     <th>std err</th>      <th>t</th>      <th>P>|t|</th>  <th>[0.025</th>    <th>0.975]</th>  \n",
       "</tr>\n",
       "<tr>\n",
       "  <th>Intercept</th>           <td> 1.463e+07</td> <td> 1.71e+06</td> <td>    8.559</td> <td> 0.000</td> <td> 1.13e+07</td> <td>  1.8e+07</td>\n",
       "</tr>\n",
       "<tr>\n",
       "  <th>Minimum_sales_price</th> <td>    1.1022</td> <td>    0.003</td> <td>  420.806</td> <td> 0.000</td> <td>    1.097</td> <td>    1.107</td>\n",
       "</tr>\n",
       "</table>\n",
       "<table class=\"simpletable\">\n",
       "<tr>\n",
       "  <th>Omnibus:</th>       <td>1280.362</td> <th>  Durbin-Watson:     </th> <td>   2.033</td> \n",
       "</tr>\n",
       "<tr>\n",
       "  <th>Prob(Omnibus):</th>  <td> 0.000</td>  <th>  Jarque-Bera (JB):  </th> <td>52550.765</td>\n",
       "</tr>\n",
       "<tr>\n",
       "  <th>Skew:</th>           <td> 2.544</td>  <th>  Prob(JB):          </th> <td>    0.00</td> \n",
       "</tr>\n",
       "<tr>\n",
       "  <th>Kurtosis:</th>       <td>28.032</td>  <th>  Cond. No.          </th> <td>8.46e+08</td> \n",
       "</tr>\n",
       "</table><br/><br/>Warnings:<br/>[1] Standard Errors assume that the covariance matrix of the errors is correctly specified.<br/>[2] The condition number is large, 8.46e+08. This might indicate that there are<br/>strong multicollinearity or other numerical problems."
      ],
      "text/plain": [
       "<class 'statsmodels.iolib.summary.Summary'>\n",
       "\"\"\"\n",
       "                            OLS Regression Results                            \n",
       "==============================================================================\n",
       "Dep. Variable:           Hammer_price   R-squared:                       0.989\n",
       "Model:                            OLS   Adj. R-squared:                  0.989\n",
       "Method:                 Least Squares   F-statistic:                 1.771e+05\n",
       "Date:                Mon, 27 Jan 2020   Prob (F-statistic):               0.00\n",
       "Time:                        21:54:05   Log-Likelihood:                -37293.\n",
       "No. Observations:                1933   AIC:                         7.459e+04\n",
       "Df Residuals:                    1931   BIC:                         7.460e+04\n",
       "Df Model:                           1                                         \n",
       "Covariance Type:            nonrobust                                         \n",
       "=======================================================================================\n",
       "                          coef    std err          t      P>|t|      [0.025      0.975]\n",
       "---------------------------------------------------------------------------------------\n",
       "Intercept            1.463e+07   1.71e+06      8.559      0.000    1.13e+07     1.8e+07\n",
       "Minimum_sales_price     1.1022      0.003    420.806      0.000       1.097       1.107\n",
       "==============================================================================\n",
       "Omnibus:                     1280.362   Durbin-Watson:                   2.033\n",
       "Prob(Omnibus):                  0.000   Jarque-Bera (JB):            52550.765\n",
       "Skew:                           2.544   Prob(JB):                         0.00\n",
       "Kurtosis:                      28.032   Cond. No.                     8.46e+08\n",
       "==============================================================================\n",
       "\n",
       "Warnings:\n",
       "[1] Standard Errors assume that the covariance matrix of the errors is correctly specified.\n",
       "[2] The condition number is large, 8.46e+08. This might indicate that there are\n",
       "strong multicollinearity or other numerical problems.\n",
       "\"\"\""
      ]
     },
     "execution_count": 100,
     "metadata": {},
     "output_type": "execute_result"
    }
   ],
   "source": [
    "import statsmodels.api as sm\n",
    "\n",
    "reg = sm.OLS.from_formula(\"Hammer_price ~ Minimum_sales_price \", df).fit()\n",
    "reg.summary()\n",
    "\n",
    "\n",
    "#P>|t| 의 값이 0에 가까울수록 유의미한 변수임을 알 수 있다.\n",
    "#Intercept -> 베타0\n",
    "#Minimum_sales_price -> 베타1 "
   ]
  },
  {
   "cell_type": "code",
   "execution_count": null,
   "metadata": {},
   "outputs": [],
   "source": []
  },
  {
   "cell_type": "code",
   "execution_count": null,
   "metadata": {},
   "outputs": [],
   "source": []
  },
  {
   "cell_type": "code",
   "execution_count": null,
   "metadata": {},
   "outputs": [],
   "source": []
  },
  {
   "cell_type": "code",
   "execution_count": null,
   "metadata": {},
   "outputs": [],
   "source": []
  }
 ],
 "metadata": {
  "kernelspec": {
   "display_name": "Python 3",
   "language": "python",
   "name": "python3"
  },
  "language_info": {
   "codemirror_mode": {
    "name": "ipython",
    "version": 3
   },
   "file_extension": ".py",
   "mimetype": "text/x-python",
   "name": "python",
   "nbconvert_exporter": "python",
   "pygments_lexer": "ipython3",
   "version": "3.6.9"
  }
 },
 "nbformat": 4,
 "nbformat_minor": 2
}
